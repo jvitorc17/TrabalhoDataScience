{
 "cells": [
  {
   "cell_type": "markdown",
   "metadata": {},
   "source": [
    "### Título\n",
    "Fernando A. Correia dos S. Junior<br>\n",
    "João Vitor Chaves de Oliveira"
   ]
  },
  {
   "cell_type": "code",
   "execution_count": 1,
   "metadata": {},
   "outputs": [],
   "source": [
    "import networkx as nx\n",
    "import json\n",
    "import matplotlib.pyplot as plt\n",
    "import random\n",
    "import re\n",
    "%matplotlib inline"
   ]
  },
  {
   "cell_type": "code",
   "execution_count": 7,
   "metadata": {},
   "outputs": [],
   "source": [
    "class Graph():\n",
    "    def __init__(self, path, graph_name=\"grafo-normalizado\"): #construtor\n",
    "        self.graph_name = graph_name\n",
    "        self.GraphJSON = json.load(open(path)) \n",
    "        self.G = nx.DiGraph() # Gera um grafo direcionado vazio\n",
    "\n",
    "\n",
    "    def generateGraph1(self): #Esta é a função que gera o grafo. A outra está errada\n",
    "        keys = self.GraphJSON.keys()\n",
    "        for i in keys:\n",
    "            values = self.GraphJSON[i]\n",
    "            for j in values:\n",
    "                self.G.add_edge(i,j)\n",
    "        \n",
    "    def getNumberOfEdges(self):\n",
    "        return self.G.number_of_edges()\n",
    "\n",
    "    def getNumberOfVertex(self):\n",
    "        return self.G.number_of_nodes()\n",
    "    \n",
    "    def saveGraph(self): ## SALVA O GRAFO. Obs: Verificar a estrutura de diretórios\n",
    "        nx.write_graphml(self.G, path='%s.graphml' % self.graph_name)\n",
    "        \n",
    "    def centrality(self): ##Retorna centralidade de grau\n",
    "        centralities = nx.algorithms.degree_centrality(self.G)\n",
    "        print(\"Centralidade media: \",nx.density(self.G))\n",
    "        return centralities\n",
    "        \n",
    "    def showGraph(self): #plota o grafo mas não fica tão legal \n",
    "        nx.draw_networkx(self.G)\n",
    "        plt.show()"
   ]
  },
  {
   "cell_type": "code",
   "execution_count": 8,
   "metadata": {},
   "outputs": [],
   "source": [
    "G = Graph('normalizado_citation_map_aborto_lista_de_adj.json') #COnstrutor passa o JSON\n",
    "G.generateGraph1() #Gera o grafo a partir do JSON\n",
    "G.saveGraph() # SALVA O ARQUIVO, EU ploto na ferramenta cytoscape"
   ]
  },
  {
   "cell_type": "code",
   "execution_count": 5,
   "metadata": {},
   "outputs": [
    {
     "name": "stdout",
     "output_type": "stream",
     "text": [
      "('Centralidade media: ', 0.0011553409722746108)\n"
     ]
    }
   ],
   "source": [
    "centralities = G.centrality()"
   ]
  },
  {
   "cell_type": "code",
   "execution_count": 6,
   "metadata": {},
   "outputs": [
    {
     "name": "stdout",
     "output_type": "stream",
     "text": [
      "41\n"
     ]
    },
    {
     "data": {
      "text/plain": [
       "[(u'ao 16 stf', 0.0008361204013377926),\n",
       " (u'rhc 32490 stj', 0.0008361204013377926),\n",
       " (u'rhc 82288 stf', 0.0008361204013377926),\n",
       " (u'hc 109133 stf', 0.0008361204013377926),\n",
       " (u're 348827 stf', 0.0008361204013377926),\n",
       " (u'ext 785 stf', 0.0008361204013377926),\n",
       " (u'adc 12 stf', 0.0008361204013377926),\n",
       " (u're 596682 stf', 0.0008361204013377926),\n",
       " (u'hc 87921 stf', 0.0008361204013377926),\n",
       " (u'hc 93596 stf', 0.0008361204013377926)]"
      ]
     },
     "execution_count": 6,
     "metadata": {},
     "output_type": "execute_result"
    }
   ],
   "source": [
    "print len(set(centralities.values()))\n",
    "centralities = [(k, v) for k, v in centralities.items()]\n",
    "centralities.sort(key=lambda x: x[1])\n",
    "centralities[:10]"
   ]
  },
  {
   "cell_type": "code",
   "execution_count": null,
   "metadata": {},
   "outputs": [],
   "source": []
  },
  {
   "cell_type": "code",
   "execution_count": 11,
   "metadata": {},
   "outputs": [],
   "source": [
    "for ano in range(2005, 2016, 2):\n",
    "    G = Graph('normalizado_citation_map_aborto_%s-%s.json' % (ano, ano + 1), \"%s-%s\" % (ano, ano + 1))\n",
    "    G.generateGraph1()\n",
    "    G.saveGraph()"
   ]
  },
  {
   "cell_type": "code",
   "execution_count": null,
   "metadata": {},
   "outputs": [],
   "source": []
  }
 ],
 "metadata": {
  "kernelspec": {
   "display_name": "Python 2",
   "language": "python",
   "name": "python2"
  },
  "language_info": {
   "codemirror_mode": {
    "name": "ipython",
    "version": 2
   },
   "file_extension": ".py",
   "mimetype": "text/x-python",
   "name": "python",
   "nbconvert_exporter": "python",
   "pygments_lexer": "ipython2",
   "version": "2.7.14"
  }
 },
 "nbformat": 4,
 "nbformat_minor": 2
}
