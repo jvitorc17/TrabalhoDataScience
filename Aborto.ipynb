{
 "cells": [
  {
   "cell_type": "markdown",
   "metadata": {},
   "source": [
    "### Título\n",
    "Fernando A. Correia dos S. Junior<br>\n",
    "João Vitor Chaves de Oliveira"
   ]
  },
  {
   "cell_type": "code",
   "execution_count": 1,
   "metadata": {
    "collapsed": true
   },
   "outputs": [],
   "source": [
    "import networkx as nx\n",
    "import json\n",
    "import matplotlib.pyplot as plt\n",
    "import random\n",
    "%matplotlib inline"
   ]
  },
  {
   "cell_type": "code",
   "execution_count": 24,
   "metadata": {
    "collapsed": true
   },
   "outputs": [],
   "source": [
    "class Graph():\n",
    "    def __init__(self, path):\n",
    "        self.GraphJSON = json.load(open(path))\n",
    "        self.G = nx.DiGraph()\n",
    "        self.nodes_map = {}\n",
    "    \n",
    "    def generateVertex(self):\n",
    "        keys = self.GraphJSON.keys()\n",
    "        k=0\n",
    "        for i in keys:\n",
    "            self.G.add_node(k,COMMON=i)\n",
    "            self.nodes_map[i]=k\n",
    "            k+=1\n",
    "        return (k)\n",
    "    \n",
    "    def generateGraph(self):\n",
    "        k = self.generateVertex()\n",
    "        keys = self.GraphJSON.keys()\n",
    "        for i in keys:\n",
    "            values = self.GraphJSON[i]\n",
    "            for j in values:\n",
    "                if j not in self.nodes_map.keys():\n",
    "                    self.nodes_map[j]=k\n",
    "                    self.G.add_node(k,COMMON=j)\n",
    "                    self.G.add_edge(self.nodes_map[i],self.nodes_map[j])\n",
    "                    k+=1\n",
    "                else:\n",
    "                    self.G.add_edge(self.nodes_map[i],self.nodes_map[j])\n",
    "        return k\n",
    "    \n",
    "    def getVertexByName(self, vertex):\n",
    "        return self.nodes_map[vertex]\n",
    "    \n",
    "    def generateGraph1(self):\n",
    "        keys = self.GraphJSON.keys()\n",
    "        for i in keys:\n",
    "            values = self.GraphJSON[i]\n",
    "            for j in values:\n",
    "                self.G.add_edge(i,j)\n",
    "        \n",
    "    def getNumberOfEdges(self):\n",
    "        return self.G.number_of_edges()\n",
    "\n",
    "    def getNumberOfVertex(self):\n",
    "        return self.G.number_of_nodes()\n",
    "    \n",
    "    def maxInDegree(self):\n",
    "        maX = -1\n",
    "        process_name = '' \n",
    "        degreeDict = G.G.in_degree()\n",
    "        for i in getVertices:\n",
    "            if degreeDict[i] > maX:\n",
    "                maX = degreeDict[i]\n",
    "                process_name = i\n",
    "        return (maX,process_name)\n",
    "\n",
    "    def saveGraph(self):\n",
    "        nx.write_graphml(self.G, path='/home/computer/Desktop/'+str(random.randint(1,10))+'.graphml')\n",
    "        \n",
    "    def centrality(self):\n",
    "        nx.algorithms.degree_centrality(self.G)\n",
    "        print(\"Centralidade media: \",nx.density(self.G))\n",
    "        \n",
    "    def showGraph(self):\n",
    "        nx.draw_networkx(self.G)\n",
    "        plt.show()"
   ]
  },
  {
   "cell_type": "code",
   "execution_count": 25,
   "metadata": {},
   "outputs": [
    {
     "data": {
      "text/plain": [
       "1623"
      ]
     },
     "execution_count": 25,
     "metadata": {},
     "output_type": "execute_result"
    }
   ],
   "source": [
    "G = Graph('citation_map_aborto_lista_de_adj.json')\n",
    "#G = Graph('teste.json')\n",
    "n_vertex = G.generateGraph1()\n",
    "#G.showGraph()\n",
    "#G.generateSubgraph(2)\n",
    "#G.saveGraph()\n",
    "G.getNumberOfVertex()"
   ]
  },
  {
   "cell_type": "code",
   "execution_count": null,
   "metadata": {},
   "outputs": [],
   "source": []
  },
  {
   "cell_type": "code",
   "execution_count": null,
   "metadata": {
    "collapsed": true
   },
   "outputs": [],
   "source": [
    "\n"
   ]
  },
  {
   "cell_type": "code",
   "execution_count": null,
   "metadata": {
    "collapsed": true
   },
   "outputs": [],
   "source": []
  },
  {
   "cell_type": "code",
   "execution_count": null,
   "metadata": {
    "collapsed": true
   },
   "outputs": [],
   "source": []
  }
 ],
 "metadata": {
  "kernelspec": {
   "display_name": "Python 3",
   "language": "python",
   "name": "python3"
  },
  "language_info": {
   "codemirror_mode": {
    "name": "ipython",
    "version": 3
   },
   "file_extension": ".py",
   "mimetype": "text/x-python",
   "name": "python",
   "nbconvert_exporter": "python",
   "pygments_lexer": "ipython3",
   "version": "3.6.2"
  }
 },
 "nbformat": 4,
 "nbformat_minor": 2
}
