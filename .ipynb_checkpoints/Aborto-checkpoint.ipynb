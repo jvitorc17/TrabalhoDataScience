{
 "cells": [
  {
   "cell_type": "markdown",
   "metadata": {},
   "source": [
    "### Título\n",
    "Fernando A. Correia dos S. Junior<br>\n",
    "João Vitor Chaves de Oliveira"
   ]
  },
  {
   "cell_type": "code",
   "execution_count": 6,
   "metadata": {
    "collapsed": true
   },
   "outputs": [],
   "source": [
    "import networkx as nx\n",
    "import json\n",
    "import matplotlib.pyplot as plt\n",
    "import random\n",
    "%matplotlib inline"
   ]
  },
  {
   "cell_type": "code",
   "execution_count": 7,
   "metadata": {
    "collapsed": true
   },
   "outputs": [],
   "source": [
    "class Graph():\n",
    "    def __init__(self, path): #construtor\n",
    "        self.GraphJSON = json.load(open(path)) \n",
    "        self.G = nx.DiGraph() # Gera um grafo direcionado vazio\n",
    "\n",
    "    \n",
    "    def generateGraph1(self): #Esta é a função que gera o grafo. A outra está errada\n",
    "        keys = self.GraphJSON.keys()\n",
    "        for i in keys:\n",
    "            values = self.GraphJSON[i]\n",
    "            for j in values:\n",
    "                self.G.add_edge(i,j)\n",
    "        \n",
    "    def getNumberOfEdges(self):\n",
    "        return self.G.number_of_edges()\n",
    "\n",
    "    def getNumberOfVertex(self):\n",
    "        return self.G.number_of_nodes()\n",
    "    \n",
    "    \n",
    "    #//*Ainda vou implementar\n",
    "    def maxInDegree(self):\n",
    "        pass\n",
    "    \n",
    "    def MinInDegree(self):\n",
    "        pass\n",
    "    \n",
    "    def maxOutDegree(self):\n",
    "        pass\n",
    "    \n",
    "    def MinOutDegree(self):\n",
    "        pass\n",
    "\n",
    "    #*//\n",
    "    \n",
    "    def saveGraph(self): ## SALVA O GRAFO. Obs: Verificar a estrutura de diretórios\n",
    "        nx.write_graphml(self.G, path='/home/computer/Desktop/'+str(random.randint(1,10))+'.graphml')\n",
    "        \n",
    "    def centrality(self): ##Retorna centralidade de grau\n",
    "        nx.algorithms.degree_centrality(self.G)\n",
    "        print(\"Centralidade media: \",nx.density(self.G))\n",
    "        \n",
    "    def showGraph(self): #plota o grafo mas não fica tão legal \n",
    "        nx.draw_networkx(self.G)\n",
    "        plt.show()"
   ]
  },
  {
   "cell_type": "code",
   "execution_count": 5,
   "metadata": {},
   "outputs": [],
   "source": [
    "G = Graph('../citation_map_aborto_lista_de_adj.json') #COnstrutor passa o JSON\n",
    "G.generateGraph1() #Gera o grafo a partir do JSON\n",
    "G.saveGraph() # SALVA O ARQUIVO, EU ploto na ferramenta cytoscape"
   ]
  },
  {
   "cell_type": "code",
   "execution_count": null,
   "metadata": {
    "collapsed": true
   },
   "outputs": [],
   "source": []
  },
  {
   "cell_type": "code",
   "execution_count": null,
   "metadata": {
    "collapsed": true
   },
   "outputs": [],
   "source": [
    "\n"
   ]
  },
  {
   "cell_type": "code",
   "execution_count": null,
   "metadata": {
    "collapsed": true
   },
   "outputs": [],
   "source": []
  },
  {
   "cell_type": "code",
   "execution_count": null,
   "metadata": {
    "collapsed": true
   },
   "outputs": [],
   "source": []
  }
 ],
 "metadata": {
  "kernelspec": {
   "display_name": "Python 3",
   "language": "python",
   "name": "python3"
  },
  "language_info": {
   "codemirror_mode": {
    "name": "ipython",
    "version": 3
   },
   "file_extension": ".py",
   "mimetype": "text/x-python",
   "name": "python",
   "nbconvert_exporter": "python",
   "pygments_lexer": "ipython3",
   "version": "3.6.2"
  }
 },
 "nbformat": 4,
 "nbformat_minor": 2
}
