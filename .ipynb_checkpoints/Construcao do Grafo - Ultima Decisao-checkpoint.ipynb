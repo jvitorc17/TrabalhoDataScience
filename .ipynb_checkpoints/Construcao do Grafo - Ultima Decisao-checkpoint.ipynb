{
 "cells": [
  {
   "cell_type": "markdown",
   "metadata": {},
   "source": [
    "# <center> INTRODUÇÃO A DATASCIENCE </center> "
   ]
  },
  {
   "cell_type": "markdown",
   "metadata": {},
   "source": [
    "#### Fernando A. Correia dos S. Junior <br> João Vitor Chaves de Oliveira"
   ]
  },
  {
   "cell_type": "markdown",
   "metadata": {},
   "source": [
    "Árvore geradora mínima problema valorar as arestas <br>\n",
    "Por que é necessário ser acíclico? O grafo? "
   ]
  },
  {
   "cell_type": "markdown",
   "metadata": {},
   "source": [
    "## ToDo List\n",
    "\n",
    "- **E dos demais, quantos tem uma citação? e duas?  ## Só chamar out_degree ou in_degree passando 1,2 ...**\n",
    "- **And after that?How many has more than 10 citations? And 100? **\n",
    "- Distribuição de graus, comparação por ano e com o total\n",
    "- Distribuição de número de componentes, comparação por ano e com o total\n",
    "- Distribuição da média de nós por componentes, comparação por ano e com o total\n",
    "- Comparar medidas de centralidade, escolher 3 casos e plotar a distribuição das métricas ao longo do tempo.\n",
    "- **Hubs e Authorities** "
   ]
  },
  {
   "cell_type": "code",
   "execution_count": 14,
   "metadata": {},
   "outputs": [],
   "source": [
    "import networkx as nx\n",
    "import json\n",
    "import random\n",
    "import re\n",
    "import scipy\n",
    "import matplotlib.pyplot as plt\n",
    "import pandas as pd\n",
    "import numpy as np"
   ]
  },
  {
   "cell_type": "code",
   "execution_count": 84,
   "metadata": {},
   "outputs": [],
   "source": [
    "class Graph():\n",
    "    def __init__(self, path, graph_name=\"grafo-normalizado\"):\n",
    "        self.graph_name = graph_name\n",
    "        self.GraphJSON = json.load(open(path)) \n",
    "        self.G = nx.DiGraph()\n",
    "\n",
    "\n",
    "    def generateGraph(self): #Esta é a função que gera o grafo\n",
    "        keys = self.GraphJSON.keys()\n",
    "        for i in keys:\n",
    "            values = self.GraphJSON[i]\n",
    "            for j in values:\n",
    "                self.G.add_edge(i,j)\n",
    "        \n",
    "    def getNumberOfEdges(self):\n",
    "        return self.G.number_of_edges()\n",
    "\n",
    "    def getNumberOfVertex(self):\n",
    "        return self.G.number_of_nodes()\n",
    "    \n",
    "    def saveGraph(self):\n",
    "        nx.write_graphml(self.G, path='%s.graphml' % self.graph_name)\n",
    "        \n",
    "    def centrality(self):\n",
    "        centralities = nx.algorithms.degree_centrality(self.G)\n",
    "        return centralities\n",
    "    \n",
    "    def betweenness_centrality(self):\n",
    "        centralities = nx.algorithms.betweenness_centrality(self.G)\n",
    "        return centralities\n",
    "    \n",
    "    def eigenvector_centrality(self):\n",
    "        centralities = nx.algorithms.eigenvector_centrality_numpy(self.G)\n",
    "        return centralities\n",
    "    \n",
    "\n",
    "    def in_degree(self, x): #Retorna a lista de vértices com grau de entrada x\n",
    "        l = []\n",
    "        for v in self.G.nodes():\n",
    "            if self.G.in_degree(v) == x:\n",
    "                l.append(v)\n",
    "        return l\n",
    "    \n",
    "    def out_degree(self, x): #Retorna a lista de vértices com grau de saída x\n",
    "        l = []\n",
    "        for v in self.G.nodes():\n",
    "            if self.G.out_degree(v) == x:\n",
    "                l.append(v)\n",
    "        return l\n",
    "    \n",
    "    def max_degree(self, arg): # arg = {int ou out} in para grau in e out para grau out\n",
    "        maximum = -1\n",
    "        if arg=='in':\n",
    "            for v in self.G.nodes():\n",
    "                degree = self.G.in_degree(v)\n",
    "                if maximum < degree:\n",
    "                    maximum = degree\n",
    "        elif arg=='out':\n",
    "            for v in self.G.nodes():\n",
    "                degree = self.G.out_degree(v)\n",
    "                if maximum < degree:\n",
    "                    maximum = degree\n",
    "        else:\n",
    "            print(\"Entrada inválida\")\n",
    "        return maximum\n",
    "    \n",
    "    def nodes(self):\n",
    "        return self.G.nodes\n",
    "       \n",
    "    def hubs_and_authorities(self):\n",
    "        return nx.hits(self.G)\n",
    "    \n",
    "    def number_strongly_connected_component(self):\n",
    "        return nx.number_strongly_connected_components(self.G)\n",
    "        \n",
    "    def degree_distribuition(self, title_year = ''):\n",
    "        din = self.max_degree('in')\n",
    "        dout = self.max_degree('out')\n",
    "        MaxDegree = max(din,dout)\n",
    "        values = np.zeros([MaxDegree+1,2])\n",
    "        \n",
    "        for i in range(MaxDegree+1):\n",
    "            values[i][0] = len(self.in_degree(i))\n",
    "            values[i][1] = len(self.out_degree(i))\n",
    "        df = pd.DataFrame(values,columns=['Grau de entrada','Grau de Saída'])\n",
    "        p = df.plot.bar()\n",
    "        p.set_xlabel('Grau')\n",
    "        p.set_ylabel('Número de vértices')\n",
    "        p.set_title(\"Número de vértices por grau \"+title_year)\n",
    "            \n",
    "        \n",
    "    def showGraph(self): #plota o grafo mas não fica tão legal \n",
    "        nx.draw_networkx(self.G)\n",
    "        plt.show()\n",
    "        "
   ]
  },
  {
   "cell_type": "markdown",
   "metadata": {},
   "source": [
    "### Importando o Arquivo para manipulação do grafo"
   ]
  },
  {
   "cell_type": "code",
   "execution_count": 77,
   "metadata": {},
   "outputs": [],
   "source": [
    "G = Graph('normalizado_citation_map_aborto_lista_de_adj.json') #Construtor passa o JSON\n",
    "G.generateGraph() #Gera o grafo a partir do JSON\n",
    "G.saveGraph() # SALVA O ARQUIVO, plotar na Gephi"
   ]
  },
  {
   "cell_type": "code",
   "execution_count": 78,
   "metadata": {},
   "outputs": [
    {
     "name": "stdout",
     "output_type": "stream",
     "text": [
      "34 59\n"
     ]
    },
    {
     "data": {
      "text/plain": [
       "<Figure size 360x720 with 0 Axes>"
      ]
     },
     "metadata": {},
     "output_type": "display_data"
    },
    {
     "data": {
      "image/png": "[encoded data removed]",
      "text/plain": [
       "<Figure size 432x288 with 1 Axes>"
      ]
     },
     "metadata": {},
     "output_type": "display_data"
    }
   ],
   "source": [
    "G.degree_distribuition()"
   ]
  },
  {
   "cell_type": "code",
   "execution_count": 79,
   "metadata": {},
   "outputs": [
    {
     "data": {
      "text/plain": [
       "1141"
      ]
     },
     "execution_count": 79,
     "metadata": {},
     "output_type": "execute_result"
    }
   ],
   "source": [
    "G.number_strongly_connected_component()"
   ]
  },
  {
   "cell_type": "code",
   "execution_count": 40,
   "metadata": {},
   "outputs": [
    {
     "name": "stdout",
     "output_type": "stream",
     "text": [
      "Número total de vértices: 1143 \n"
     ]
    }
   ],
   "source": [
    "print(\"Número total de vértices: %s \" % len(G.nodes()))"
   ]
  },
  {
   "cell_type": "markdown",
   "metadata": {},
   "source": [
    "#### 1. Quantos processos na rede não foram citados?"
   ]
  },
  {
   "cell_type": "code",
   "execution_count": 41,
   "metadata": {},
   "outputs": [
    {
     "name": "stdout",
     "output_type": "stream",
     "text": [
      "81 processos não são citados \n"
     ]
    }
   ],
   "source": [
    "print(\"%s processos não são citados \"%len(G.in_degree(0)))"
   ]
  },
  {
   "cell_type": "markdown",
   "metadata": {},
   "source": [
    "#### 2. Quantos processos na rede não citam ninguém ?"
   ]
  },
  {
   "cell_type": "code",
   "execution_count": 42,
   "metadata": {
    "scrolled": true
   },
   "outputs": [
    {
     "name": "stdout",
     "output_type": "stream",
     "text": [
      "1039 processos não citam ninguém \n"
     ]
    }
   ],
   "source": [
    "print(\"%s processos não citam ninguém \"%len(G.out_degree(0)))"
   ]
  },
  {
   "cell_type": "markdown",
   "metadata": {},
   "source": [
    "### Centralidades"
   ]
  },
  {
   "cell_type": "code",
   "execution_count": 68,
   "metadata": {},
   "outputs": [],
   "source": [
    "centralities_degree = G.centrality()\n",
    "#for i in centralities_degree:\n",
    "#    print(centralities_degree[i])"
   ]
  },
  {
   "cell_type": "code",
   "execution_count": 69,
   "metadata": {},
   "outputs": [],
   "source": [
    "centralities_betweenness = G.betweenness_centrality()\n",
    "#for i in centralities_degree:\n",
    "#    print(i, ' : ',centralities_betweenness[i])"
   ]
  },
  {
   "cell_type": "code",
   "execution_count": 70,
   "metadata": {},
   "outputs": [],
   "source": [
    "centralities_eingenvector = G.eigenvector_centrality()\n",
    "#for i in centralities_eingenvector:\n",
    "#    print(centralities_eingenvector[i])"
   ]
  },
  {
   "cell_type": "code",
   "execution_count": 71,
   "metadata": {
    "scrolled": true
   },
   "outputs": [
    {
     "name": "stdout",
     "output_type": "stream",
     "text": [
      "2\n"
     ]
    },
    {
     "data": {
      "text/plain": [
       "[('rcl 14872 stf', 0.0),\n",
       " ('sumulas vinculantes stf', 0.0),\n",
       " ('psv 88 stf', 0.0),\n",
       " ('re 298694 stf', 0.0),\n",
       " ('re 584608 stf', 0.0),\n",
       " ('re 545503 stf', 0.0),\n",
       " ('sum. stf', 0.0),\n",
       " ('ai 848332 stf', 0.0),\n",
       " ('sum. vinc. stf', 0.0),\n",
       " ('adi 2418 stf', 0.0)]"
      ]
     },
     "execution_count": 71,
     "metadata": {},
     "output_type": "execute_result"
    }
   ],
   "source": [
    "print(len(set(centralities_betweenness.values())))\n",
    "centralities_betweenness = [(k, v) for k, v in centralities_betweenness.items()]\n",
    "centralities_betweenness.sort(key=lambda x: x[1])\n",
    "centralities_betweenness[:10]"
   ]
  },
  {
   "cell_type": "code",
   "execution_count": 72,
   "metadata": {},
   "outputs": [],
   "source": [
    "for ano in range(2005, 2016, 2):\n",
    "    G = Graph('normalizado_citation_map_aborto_%s-%s.json' % (ano, ano + 1), \"%s-%s\" % (ano, ano + 1))\n",
    "    G.generateGraph()\n",
    "    G.saveGraph()"
   ]
  },
  {
   "cell_type": "markdown",
   "metadata": {},
   "source": [
    "## Distribuição de vértices por grau (in/out) em cada ano."
   ]
  },
  {
   "cell_type": "code",
   "execution_count": 85,
   "metadata": {},
   "outputs": [],
   "source": [
    "G1 = Graph('normalizado_citation_map_aborto_2005-2006.json')\n",
    "G2 = Graph('normalizado_citation_map_aborto_2007-2008.json')\n",
    "G3 = Graph('normalizado_citation_map_aborto_2009-2010.json')\n",
    "G4 = Graph('normalizado_citation_map_aborto_2011-2012.json')\n",
    "G5 = Graph('normalizado_citation_map_aborto_2013-2014.json')\n",
    "G6 = Graph('normalizado_citation_map_aborto_2015-2016.json')\n",
    "graphs_per_year = {'2005-2006':G1,'2007-2008':G2,'2008-2009':G3,'2010-2011':G4,'2012-2013':G5,'2014-2015':G6}"
   ]
  },
  {
   "cell_type": "code",
   "execution_count": 87,
   "metadata": {},
   "outputs": [],
   "source": [
    "for graph in graphs_per_year.values():\n",
    "    graph.generateGraph()\n",
    "    graph.saveGraph()"
   ]
  },
  {
   "cell_type": "code",
   "execution_count": 92,
   "metadata": {},
   "outputs": [
    {
     "data": {
      "text/plain": [
       "<Figure size 360x720 with 0 Axes>"
      ]
     },
     "metadata": {},
     "output_type": "display_data"
    },
    {
     "data": {
      "image/png": "[encoded data removed]",
      "text/plain": [
       "<Figure size 432x288 with 1 Axes>"
      ]
     },
     "metadata": {},
     "output_type": "display_data"
    },
    {
     "data": {
      "text/plain": [
       "<Figure size 360x720 with 0 Axes>"
      ]
     },
     "metadata": {},
     "output_type": "display_data"
    },
    {
     "data": {
      "image/png": "[encoded data removed]",
      "text/plain": [
       "<Figure size 432x288 with 1 Axes>"
      ]
     },
     "metadata": {},
     "output_type": "display_data"
    },
    {
     "data": {
      "text/plain": [
       "<Figure size 360x720 with 0 Axes>"
      ]
     },
     "metadata": {},
     "output_type": "display_data"
    },
    {
     "data": {
      "image/png": "[encoded data removed]",
      "text/plain": [
       "<Figure size 432x288 with 1 Axes>"
      ]
     },
     "metadata": {},
     "output_type": "display_data"
    },
    {
     "data": {
      "text/plain": [
       "<Figure size 360x720 with 0 Axes>"
      ]
     },
     "metadata": {},
     "output_type": "display_data"
    },
    {
     "data": {
      "image/png": "[encoded data removed]",
      "text/plain": [
       "<Figure size 432x288 with 1 Axes>"
      ]
     },
     "metadata": {},
     "output_type": "display_data"
    },
    {
     "data": {
      "text/plain": [
       "<Figure size 360x720 with 0 Axes>"
      ]
     },
     "metadata": {},
     "output_type": "display_data"
    },
    {
     "data": {
      "image/png": "[encoded data removed]",
      "text/plain": [
       "<Figure size 432x288 with 1 Axes>"
      ]
     },
     "metadata": {},
     "output_type": "display_data"
    },
    {
     "data": {
      "text/plain": [
       "<Figure size 360x720 with 0 Axes>"
      ]
     },
     "metadata": {},
     "output_type": "display_data"
    },
    {
     "data": {
      "image/png": "[encoded data removed]",
      "text/plain": [
       "<Figure size 432x288 with 1 Axes>"
      ]
     },
     "metadata": {},
     "output_type": "display_data"
    }
   ],
   "source": [
    "keys= list(graphs_per_year.keys())\n",
    "for i,graph in enumerate(graphs_per_year.values()):\n",
    "    graph.degree_distribuition(keys[i])"
   ]
  },
  {
   "cell_type": "markdown",
   "metadata": {},
   "source": [
    "## Número de componentes por ano"
   ]
  },
  {
   "cell_type": "code",
   "execution_count": 93,
   "metadata": {},
   "outputs": [
    {
     "name": "stdout",
     "output_type": "stream",
     "text": [
      "['2005-2006', '2007-2008', '2008-2009', '2010-2011', '2012-2013', '2014-2015']\n"
     ]
    }
   ],
   "source": [
    "print(keys)"
   ]
  },
  {
   "cell_type": "code",
   "execution_count": 95,
   "metadata": {},
   "outputs": [
    {
     "ename": "AssertionError",
     "evalue": "6 columns passed, passed data had 1 columns",
     "output_type": "error",
     "traceback": [
      "\u001b[0;31m---------------------------------------------------------------------------\u001b[0m",
      "\u001b[0;31mAssertionError\u001b[0m                            Traceback (most recent call last)",
      "\u001b[0;32m<ipython-input-95-98e8418abc2d>\u001b[0m in \u001b[0;36m<module>\u001b[0;34m()\u001b[0m\n\u001b[1;32m      3\u001b[0m     \u001b[0mnumber_components\u001b[0m\u001b[0;34m.\u001b[0m\u001b[0mappend\u001b[0m\u001b[0;34m(\u001b[0m\u001b[0;34m[\u001b[0m\u001b[0mgraph\u001b[0m\u001b[0;34m.\u001b[0m\u001b[0mnumber_strongly_connected_component\u001b[0m\u001b[0;34m(\u001b[0m\u001b[0;34m)\u001b[0m\u001b[0;34m]\u001b[0m\u001b[0;34m)\u001b[0m\u001b[0;34m\u001b[0m\u001b[0m\n\u001b[1;32m      4\u001b[0m \u001b[0;34m\u001b[0m\u001b[0m\n\u001b[0;32m----> 5\u001b[0;31m \u001b[0mnumber_components_df\u001b[0m \u001b[0;34m=\u001b[0m \u001b[0mpd\u001b[0m\u001b[0;34m.\u001b[0m\u001b[0mDataFrame\u001b[0m\u001b[0;34m(\u001b[0m\u001b[0mnumber_components\u001b[0m\u001b[0;34m,\u001b[0m \u001b[0mcolumns\u001b[0m\u001b[0;34m=\u001b[0m\u001b[0mkeys\u001b[0m\u001b[0;34m)\u001b[0m\u001b[0;34m\u001b[0m\u001b[0m\n\u001b[0m\u001b[1;32m      6\u001b[0m \u001b[0mp\u001b[0m \u001b[0;34m=\u001b[0m \u001b[0mdf\u001b[0m\u001b[0;34m.\u001b[0m\u001b[0mplot\u001b[0m\u001b[0;34m.\u001b[0m\u001b[0mbar\u001b[0m\u001b[0;34m(\u001b[0m\u001b[0;34m)\u001b[0m\u001b[0;34m\u001b[0m\u001b[0m\n\u001b[1;32m      7\u001b[0m \u001b[0mp\u001b[0m\u001b[0;34m.\u001b[0m\u001b[0mset_xlabel\u001b[0m\u001b[0;34m(\u001b[0m\u001b[0;34m'Grau'\u001b[0m\u001b[0;34m)\u001b[0m\u001b[0;34m\u001b[0m\u001b[0m\n",
      "\u001b[0;32m~/miniconda3/lib/python3.6/site-packages/pandas/core/frame.py\u001b[0m in \u001b[0;36m__init__\u001b[0;34m(self, data, index, columns, dtype, copy)\u001b[0m\n\u001b[1;32m    385\u001b[0m                     \u001b[0;32mif\u001b[0m \u001b[0mis_named_tuple\u001b[0m\u001b[0;34m(\u001b[0m\u001b[0mdata\u001b[0m\u001b[0;34m[\u001b[0m\u001b[0;36m0\u001b[0m\u001b[0;34m]\u001b[0m\u001b[0;34m)\u001b[0m \u001b[0;32mand\u001b[0m \u001b[0mcolumns\u001b[0m \u001b[0;32mis\u001b[0m \u001b[0;32mNone\u001b[0m\u001b[0;34m:\u001b[0m\u001b[0;34m\u001b[0m\u001b[0m\n\u001b[1;32m    386\u001b[0m                         \u001b[0mcolumns\u001b[0m \u001b[0;34m=\u001b[0m \u001b[0mdata\u001b[0m\u001b[0;34m[\u001b[0m\u001b[0;36m0\u001b[0m\u001b[0;34m]\u001b[0m\u001b[0;34m.\u001b[0m\u001b[0m_fields\u001b[0m\u001b[0;34m\u001b[0m\u001b[0m\n\u001b[0;32m--> 387\u001b[0;31m                     \u001b[0marrays\u001b[0m\u001b[0;34m,\u001b[0m \u001b[0mcolumns\u001b[0m \u001b[0;34m=\u001b[0m \u001b[0m_to_arrays\u001b[0m\u001b[0;34m(\u001b[0m\u001b[0mdata\u001b[0m\u001b[0;34m,\u001b[0m \u001b[0mcolumns\u001b[0m\u001b[0;34m,\u001b[0m \u001b[0mdtype\u001b[0m\u001b[0;34m=\u001b[0m\u001b[0mdtype\u001b[0m\u001b[0;34m)\u001b[0m\u001b[0;34m\u001b[0m\u001b[0m\n\u001b[0m\u001b[1;32m    388\u001b[0m                     \u001b[0mcolumns\u001b[0m \u001b[0;34m=\u001b[0m \u001b[0m_ensure_index\u001b[0m\u001b[0;34m(\u001b[0m\u001b[0mcolumns\u001b[0m\u001b[0;34m)\u001b[0m\u001b[0;34m\u001b[0m\u001b[0m\n\u001b[1;32m    389\u001b[0m \u001b[0;34m\u001b[0m\u001b[0m\n",
      "\u001b[0;32m~/miniconda3/lib/python3.6/site-packages/pandas/core/frame.py\u001b[0m in \u001b[0;36m_to_arrays\u001b[0;34m(data, columns, coerce_float, dtype)\u001b[0m\n\u001b[1;32m   7432\u001b[0m     \u001b[0;32mif\u001b[0m \u001b[0misinstance\u001b[0m\u001b[0;34m(\u001b[0m\u001b[0mdata\u001b[0m\u001b[0;34m[\u001b[0m\u001b[0;36m0\u001b[0m\u001b[0;34m]\u001b[0m\u001b[0;34m,\u001b[0m \u001b[0;34m(\u001b[0m\u001b[0mlist\u001b[0m\u001b[0;34m,\u001b[0m \u001b[0mtuple\u001b[0m\u001b[0;34m)\u001b[0m\u001b[0;34m)\u001b[0m\u001b[0;34m:\u001b[0m\u001b[0;34m\u001b[0m\u001b[0m\n\u001b[1;32m   7433\u001b[0m         return _list_to_arrays(data, columns, coerce_float=coerce_float,\n\u001b[0;32m-> 7434\u001b[0;31m                                dtype=dtype)\n\u001b[0m\u001b[1;32m   7435\u001b[0m     \u001b[0;32melif\u001b[0m \u001b[0misinstance\u001b[0m\u001b[0;34m(\u001b[0m\u001b[0mdata\u001b[0m\u001b[0;34m[\u001b[0m\u001b[0;36m0\u001b[0m\u001b[0;34m]\u001b[0m\u001b[0;34m,\u001b[0m \u001b[0mcollections\u001b[0m\u001b[0;34m.\u001b[0m\u001b[0mMapping\u001b[0m\u001b[0;34m)\u001b[0m\u001b[0;34m:\u001b[0m\u001b[0;34m\u001b[0m\u001b[0m\n\u001b[1;32m   7436\u001b[0m         return _list_of_dict_to_arrays(data, columns,\n",
      "\u001b[0;32m~/miniconda3/lib/python3.6/site-packages/pandas/core/frame.py\u001b[0m in \u001b[0;36m_list_to_arrays\u001b[0;34m(data, columns, coerce_float, dtype)\u001b[0m\n\u001b[1;32m   7511\u001b[0m         \u001b[0mcontent\u001b[0m \u001b[0;34m=\u001b[0m \u001b[0mlist\u001b[0m\u001b[0;34m(\u001b[0m\u001b[0mlib\u001b[0m\u001b[0;34m.\u001b[0m\u001b[0mto_object_array\u001b[0m\u001b[0;34m(\u001b[0m\u001b[0mdata\u001b[0m\u001b[0;34m)\u001b[0m\u001b[0;34m.\u001b[0m\u001b[0mT\u001b[0m\u001b[0;34m)\u001b[0m\u001b[0;34m\u001b[0m\u001b[0m\n\u001b[1;32m   7512\u001b[0m     return _convert_object_array(content, columns, dtype=dtype,\n\u001b[0;32m-> 7513\u001b[0;31m                                  coerce_float=coerce_float)\n\u001b[0m\u001b[1;32m   7514\u001b[0m \u001b[0;34m\u001b[0m\u001b[0m\n\u001b[1;32m   7515\u001b[0m \u001b[0;34m\u001b[0m\u001b[0m\n",
      "\u001b[0;32m~/miniconda3/lib/python3.6/site-packages/pandas/core/frame.py\u001b[0m in \u001b[0;36m_convert_object_array\u001b[0;34m(content, columns, coerce_float, dtype)\u001b[0m\n\u001b[1;32m   7569\u001b[0m             raise AssertionError('{col:d} columns passed, passed data had '\n\u001b[1;32m   7570\u001b[0m                                  '{con} columns'.format(col=len(columns),\n\u001b[0;32m-> 7571\u001b[0;31m                                                         con=len(content)))\n\u001b[0m\u001b[1;32m   7572\u001b[0m \u001b[0;34m\u001b[0m\u001b[0m\n\u001b[1;32m   7573\u001b[0m     \u001b[0;31m# provide soft conversion of object dtypes\u001b[0m\u001b[0;34m\u001b[0m\u001b[0;34m\u001b[0m\u001b[0m\n",
      "\u001b[0;31mAssertionError\u001b[0m: 6 columns passed, passed data had 1 columns"
     ]
    }
   ],
   "source": [
    "number_components = []\n",
    "for graph in graphs_per_year.values():\n",
    "    number_components.append([graph.number_strongly_connected_component()])\n",
    "\n",
    "print(len(number_components))\n",
    "number_components_df = pd.DataFrame(number_components, columns=keys)\n",
    "p = df.plot.bar()\n",
    "p.set_xlabel('Grau')\n",
    "p.set_ylabel('Número de vértices')\n",
    "p.set_title(\"Número de vértices por grau \"+title_year)"
   ]
  },
  {
   "cell_type": "code",
   "execution_count": null,
   "metadata": {},
   "outputs": [],
   "source": []
  },
  {
   "cell_type": "markdown",
   "metadata": {},
   "source": [
    "## Hubs and authorities"
   ]
  },
  {
   "cell_type": "code",
   "execution_count": 16,
   "metadata": {},
   "outputs": [],
   "source": [
    "h,a = G.hubs_and_authorities() # Retorna dois dicionários com o vértice e sua taxa de hub e autoridade"
   ]
  },
  {
   "cell_type": "code",
   "execution_count": 61,
   "metadata": {},
   "outputs": [],
   "source": [
    "h,a = G2.hubs_and_authorities()"
   ]
  },
  {
   "cell_type": "code",
   "execution_count": 62,
   "metadata": {},
   "outputs": [
    {
     "name": "stdout",
     "output_type": "stream",
     "text": [
      "[('re 839163 stf', 0.8284169648024748), ('ai 622001 stf', 0.0455147581241239), ('rhc 122683 stf', 0.04493632904854886), ('re 658312 stf', 0.02250548129707828), ('rcl 17206 stf', 0.01982166438773367)]\n"
     ]
    }
   ],
   "source": [
    "hubs = list(h.items())\n",
    "hubs.sort(key=lambda x: x[1], reverse=True)\n",
    "print(hubs[:5])"
   ]
  },
  {
   "cell_type": "code",
   "execution_count": 63,
   "metadata": {},
   "outputs": [
    {
     "name": "stdout",
     "output_type": "stream",
     "text": [
      "[('sum. stf', 0.01830355558718704), ('ai 622527 stf', 0.01603932813439305), ('ai 649191 stf', 0.01603932813439305), ('ai 681109 stf', 0.015203992691768227), ('ai 791292 stf', 0.015203992691768227)]\n"
     ]
    }
   ],
   "source": [
    "aut = list(a.items())\n",
    "aut.sort(key=lambda x: x[1], reverse=True)\n",
    "print(aut[:5])"
   ]
  }
 ],
 "metadata": {
  "kernelspec": {
   "display_name": "Python 3",
   "language": "python",
   "name": "python3"
  },
  "language_info": {
   "codemirror_mode": {
    "name": "ipython",
    "version": 3
   },
   "file_extension": ".py",
   "mimetype": "text/x-python",
   "name": "python",
   "nbconvert_exporter": "python",
   "pygments_lexer": "ipython3",
   "version": "3.6.5"
  }
 },
 "nbformat": 4,
 "nbformat_minor": 2
}
