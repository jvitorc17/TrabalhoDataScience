{
 "cells": [
  {
   "cell_type": "markdown",
   "metadata": {},
   "source": [
    "# <center> INTRODUÇÃO A DATASCIENCE </center> "
   ]
  },
  {
   "cell_type": "markdown",
   "metadata": {},
   "source": [
    "#### Fernando A. Correia dos S. Junior <br> João Vitor Chaves de Oliveira"
   ]
  },
  {
   "cell_type": "markdown",
   "metadata": {},
   "source": [
    "Árvore geradora mínima problema valorar as arestas <br>\n",
    "Por que é necessário ser acíclico? O grafo? "
   ]
  },
  {
   "cell_type": "markdown",
   "metadata": {},
   "source": [
    "## ToDo List\n",
    "\n",
    "- **E dos demais, quantos tem uma citação? e duas?  ## Só chamar out_degree ou in_degree passando 1,2 ...**\n",
    "- **And after that?How many has more than 10 citations? And 100? **\n",
    "- **Distribuição de graus, comparação por ano e com o total**\n",
    "- **Distribuição de número de componentes, comparação por ano e com o total**\n",
    "- Distribuição da média de nós por componentes, comparação por ano e com o total\n",
    "- Comparar medidas de centralidade, escolher 3 casos e plotar a distribuição das métricas ao longo do tempo.\n",
    "- **Hubs e Authorities** "
   ]
  },
  {
   "cell_type": "code",
   "execution_count": 1,
   "metadata": {},
   "outputs": [],
   "source": [
    "import networkx as nx\n",
    "import json\n",
    "import random\n",
    "import re\n",
    "import scipy\n",
    "import matplotlib.pyplot as plt\n",
    "import pandas as pd\n",
    "import numpy as np"
   ]
  },
  {
   "cell_type": "code",
   "execution_count": 2,
   "metadata": {},
   "outputs": [],
   "source": [
    "class Graph():\n",
    "    def __init__(self, path, graph_name=\"grafo-normalizado\"):\n",
    "        self.graph_name = graph_name\n",
    "        self.GraphJSON = json.load(open(path)) \n",
    "        self.G = nx.DiGraph()\n",
    "        self.edges = []\n",
    "        self.generateGraph()\n",
    "\n",
    "    def generateGraph(self): #Esta é a função que gera o grafo\n",
    "        keys = self.GraphJSON.keys()\n",
    "        for i in keys:\n",
    "            values = self.GraphJSON[i]\n",
    "            for j in values:\n",
    "                self.G.add_edge(i,j)\n",
    "        \n",
    "    def getNumberOfEdges(self):\n",
    "        return self.G.number_of_edges()\n",
    "\n",
    "    def getNumberOfVertex(self):\n",
    "        return self.G.number_of_nodes()\n",
    "    \n",
    "    def saveGraph(self):\n",
    "        nx.write_graphml(self.G, path='%s.graphml' % self.graph_name)\n",
    "        \n",
    "    def centrality(self):\n",
    "        centralities = nx.algorithms.degree_centrality(self.G)\n",
    "        return centralities\n",
    "    \n",
    "    def betweenness_centrality(self):\n",
    "        centralities = nx.algorithms.betweenness_centrality(self.G)\n",
    "        return centralities\n",
    "    \n",
    "    def eigenvector_centrality(self):\n",
    "        centralities = nx.algorithms.eigenvector_centrality_numpy(self.G)\n",
    "        return centralities\n",
    "    \n",
    "\n",
    "    def in_degree(self, x): #Retorna a lista de vértices com grau de entrada x\n",
    "        l = []\n",
    "        for v in self.G.nodes():\n",
    "            if self.G.in_degree(v) == x:\n",
    "                l.append(v)\n",
    "        return l\n",
    "    \n",
    "    def out_degree(self, x): #Retorna a lista de vértices com grau de saída x\n",
    "        l = []\n",
    "        for v in self.G.nodes():\n",
    "            if self.G.out_degree(v) == x:\n",
    "                l.append(v)\n",
    "        return l\n",
    "    \n",
    "    def max_degree(self, arg): # arg = {int ou out} in para grau in e out para grau out\n",
    "        maximum = -1\n",
    "        if arg=='in':\n",
    "            for v in self.G.nodes():\n",
    "                degree = self.G.in_degree(v)\n",
    "                if maximum < degree:\n",
    "                    maximum = degree\n",
    "        elif arg=='out':\n",
    "            for v in self.G.nodes():\n",
    "                degree = self.G.out_degree(v)\n",
    "                if maximum < degree:\n",
    "                    maximum = degree\n",
    "        else:\n",
    "            print(u\"Entrada inválida\")\n",
    "        return maximum\n",
    "    \n",
    "    def nodes(self):\n",
    "        return self.G.nodes\n",
    "       \n",
    "    def hubs_and_authorities(self):\n",
    "        return nx.hits(self.G)\n",
    "    \n",
    "    def number_strongly_connected_component(self):\n",
    "        return nx.number_strongly_connected_components(self.G)\n",
    "\n",
    "    def strongly_connected_component(self):\n",
    "        return sorted(nx.connected_components(self.G), key=len, reverse=True)\n",
    "        \n",
    "    def degree_distribuition(self, title_year = ''):\n",
    "        din = self.max_degree('in')\n",
    "        dout = self.max_degree('out')\n",
    "        MaxDegree = max(din,dout)\n",
    "        values = np.zeros([MaxDegree+1,2])\n",
    "        \n",
    "        for i in range(MaxDegree+1):\n",
    "            values[i][0] = len(self.in_degree(i))\n",
    "            values[i][1] = len(self.out_degree(i))\n",
    "        df = pd.DataFrame(values,columns=['Grau de entrada','Grau de Saída'])\n",
    "        p = df.plot.bar()\n",
    "        p.set_xlabel(u'Grau')\n",
    "        p.set_ylabel(u'Número de vértices')\n",
    "        p.set_title(u\"Número de vértices por grau \"+title_year)\n",
    "    \n",
    "    def get_vertex_max_in_degree(self):\n",
    "        maximum = -1\n",
    "        max_node = None\n",
    "        for v in self.G.nodes():\n",
    "            degree = self.G.in_degree(v)\n",
    "            if maximum < degree:\n",
    "                maximum = degree\n",
    "                max_node = v\n",
    "        return max_node\n",
    "            \n",
    "    def list_in_degree(self):\n",
    "        return [self.G.in_degree(v) for v in self.G.nodes()]\n",
    "    \n",
    "    def list_out_degree(self):\n",
    "        return [self.G.out_degree(v) for v in self.G.nodes()]\n",
    "\n",
    "    def showGraph(self): #plota o grafo mas não fica tão legal \n",
    "        nx.draw_networkx(self.G)\n",
    "        plt.show()\n",
    "        "
   ]
  },
  {
   "cell_type": "code",
   "execution_count": 3,
   "metadata": {},
   "outputs": [],
   "source": [
    "windows = [\n",
    "    (2005, Graph('normalizado_citation_map_aborto_2005.json')),\n",
    "    (2006, Graph('normalizado_citation_map_aborto_2006.json')),\n",
    "    (2007, Graph('normalizado_citation_map_aborto_2007.json')),\n",
    "    (2008, Graph('normalizado_citation_map_aborto_2008.json')),\n",
    "    (2009, Graph('normalizado_citation_map_aborto_2009.json')),\n",
    "    (2010, Graph('normalizado_citation_map_aborto_2010.json')),\n",
    "    (2011, Graph('normalizado_citation_map_aborto_2011.json')),\n",
    "    (2012, Graph('normalizado_citation_map_aborto_2012.json')),\n",
    "    (2013, Graph('normalizado_citation_map_aborto_2013.json')),\n",
    "    (2014, Graph('normalizado_citation_map_aborto_2014.json')),\n",
    "    (2015, Graph('normalizado_citation_map_aborto_2015.json')),\n",
    "    (2016, Graph('normalizado_citation_map_aborto_2016.json')),\n",
    "    \n",
    "]"
   ]
  },
  {
   "cell_type": "markdown",
   "metadata": {},
   "source": [
    "### Nós comuns a todas as janelas"
   ]
  },
  {
   "cell_type": "code",
   "execution_count": 4,
   "metadata": {},
   "outputs": [
    {
     "name": "stdout",
     "output_type": "stream",
     "text": [
      "Total de nós comuns a todos os anos: 0\n",
      "Total de nós: 1287\n"
     ]
    }
   ],
   "source": [
    "nodes_list = [set(graph[1].nodes()) for graph in windows]\n",
    "all_nodes = set.union(*nodes_list)\n",
    "comumn_nodes = set.intersection(*nodes_list)\n",
    "print(u\"Total de nós comuns a todos os anos: %s\" % len(comumn_nodes))\n",
    "print(u\"Total de nós: %s\" % len(all_nodes))"
   ]
  },
  {
   "cell_type": "markdown",
   "metadata": {},
   "source": [
    "### Nós comuns entre janelas de um ano"
   ]
  },
  {
   "cell_type": "code",
   "execution_count": 5,
   "metadata": {},
   "outputs": [
    {
     "name": "stdout",
     "output_type": "stream",
     "text": [
      "++++++++++++++++++++++++++++++++++++++\n",
      "Entre 2005 e 2006 há 8 vertices em comum\n",
      "set([u'hc 70763 stf', u'hc 2 stj', u'com 3 stj', u'adpf 54 stf', u'ms 2 stj', u'inq 2 stf', u'adi 2 stf', u'hc 84768 stf'])\n",
      "++++++++++++++++++++++++++++++++++++++\n",
      "Entre 2006 e 2007 há 5 vertices em comum\n",
      "set([u'hc 2 stj', u'adpf 54 stf', u'inq 2 stf', u'adi 1 stf', u'rhc 2 stj'])\n",
      "++++++++++++++++++++++++++++++++++++++\n",
      "Entre 2007 e 2008 há 9 vertices em comum\n",
      "set([u'hc 72424 stf', u'adpf 79 stf', u'hc 2 stj', u'adpf 33 stf', u'hc 7368611 stf', u'se 8 stj', u'adpf 54 stf', u'hc 70193 stf', u'adi 3 stf'])\n",
      "++++++++++++++++++++++++++++++++++++++\n",
      "Entre 2008 e 2009 há 11 vertices em comum\n",
      "set([u'hc 72424 stf', u'com 7 stj', u'com 4 stj', u'sum. 691 stf', u'hc 7368611 stf', u'adpf 54 stf', u'hc 70193 stf', u'adpf 33 stf', u'adpf 12 stf', u'adpf 13 stf', u'se 2 stj'])\n",
      "++++++++++++++++++++++++++++++++++++++\n",
      "Entre 2009 e 2010 há 19 vertices em comum\n",
      "set([u're 381964 stf', u'adi 2675 stf', u'hc 72424 stf', u'adi 2223 stf', u'adi 2777 stf', u'sum. 691 stf', u'hc 70193 stf', u're 566471 stf', u're 576155 stf', u'mc 2321 stj', u'adpf 54 stf', u'hc 135558 stj', u'hc 100975 stf', u'mc 2130 stj', u'hc 113244 stf', u're 583834 stf', u'adi 2238 stf', u'adi 2690 stf', u're 586995 stf'])\n",
      "++++++++++++++++++++++++++++++++++++++\n",
      "Entre 2010 e 2011 há 64 vertices em comum\n",
      "set([u'hc 68219 stf', u'hc 72424 stf', u'sta 312 stf', u'sta 507 stf', u'adi 2405 stf', u'adi 1351 stf', u're 631102 stf', u're 156400 stf', u'hc 86735 stf', u'ms 25594 stf', u'hc 73721 stf', u'adi 1797 stf', u'ms 22087 stf', u'rhc 93248 stf', u'adi 407167 stf', u'adi 1127 stf', u'sta 32484 stf', u're 630147 stf', u'hc 71382 stf', u'adi 1946 stf', u'adi 3345 stf', u'hc 90938 stf', u'adpf 144 stf', u'adi 354 stf', u'adi 3605 stf', u're 129392 stf', u'adi 2566 stf', u'sum. 356 stf', u'adi 3324 stf', u'adpf 54 stf', u'adi 3685 stf', u'hc 74562 stf', u'hc 73686 stf', u'adi 2596 stf', u'adi 3046 stf', u'rp 1417 stf', u'ss 2187 stf', u'hc 92812 stf', u'sum. 279 stf', u'hc 6865862 stf', u're 120392 stf', u're 405579 stf', u'adi 2087 stf', u'adi 1344 stf', u'adi 2652 stf', u'hc 88707 stf', u'hc 67271 stf', u're 197917 stf', u'ss 2465 stf', u'sta 304 stf', u'com 11 stj', u'rcl 497 stf', u'hc 67531 stf', u'adi 3741 stf', u'adi 4451 stf', u'hc 66954 stf', u'com 16 stj', u'hc 70193 stf', u'hc 82050 stf', u'adi 4307 stf', u'adi 939 stf', u'adi 2209 stf', u'adi 1668 stf', u'adi 1805 stf'])\n",
      "++++++++++++++++++++++++++++++++++++++\n",
      "Entre 2011 e 2012 há 0 vertices em comum\n",
      "set([])\n",
      "++++++++++++++++++++++++++++++++++++++\n",
      "Entre 2012 e 2013 há 6 vertices em comum\n",
      "set([u'rhc 91553 stf', u'hc 102826 stf', u'hc 111953 stf', u'hc 104206 stf', u'hc 103826 stf', u'rhc 81057 stf'])\n",
      "++++++++++++++++++++++++++++++++++++++\n",
      "Entre 2013 e 2014 há 2 vertices em comum\n",
      "set([u'se 12 stj', u'sum. 279 stf'])\n",
      "++++++++++++++++++++++++++++++++++++++\n",
      "Entre 2014 e 2015 há 1 vertices em comum\n",
      "set([u'hc 84078 stf'])\n",
      "++++++++++++++++++++++++++++++++++++++\n",
      "Entre 2015 e 2016 há 24 vertices em comum\n",
      "set([u'hc 68219 stf', u'hc 73721 stf', u'rhc 93248 stf', u'hc 93596 stf', u'adi 1127 stf', u'hc 90938 stf', u'hc 66954 stf', u'hc 74562 stf', u'rhc 65127 stj', u'sum. 734 stf', u'if 5129 stf', u'hc 92812 stf', u'resp 574511 stj', u'hc 13897 stj', u'hc 88707 stf', u're 592581 stf', u'hc 48629 stj', u'rhc 18802 stj', u'hc 67531 stf', u'hc 13526 stj', u'hc 70193 stf', u'hc 82050 stf', u'hc 66806 stf', u'hc 76930 stf'])\n"
     ]
    }
   ],
   "source": [
    "for i in range(len(windows) - 1):\n",
    "    set_a = set(windows[i][1].nodes())\n",
    "    set_b = set(windows[i + 1][1].nodes())\n",
    "    inter = set_a & set_b\n",
    "    print(\"++++++++++++++++++++++++++++++++++++++\")\n",
    "    print(u\"Entre %s e %s há %s vertices em comum\" % (windows[i][0], windows[i +1][0], len(inter)))\n",
    "    print(inter)"
   ]
  },
  {
   "cell_type": "markdown",
   "metadata": {},
   "source": [
    "### Listagem dos nós que \"vivem\" mais de 2 anos"
   ]
  },
  {
   "cell_type": "code",
   "execution_count": 27,
   "metadata": {},
   "outputs": [
    {
     "name": "stdout",
     "output_type": "stream",
     "text": [
      "Total de nós que vivem mais de 2 anos: 119 \n",
      "set([u'hc 68219 stf', u'sta 312 stf', u're 631102 stf', u'adi 2777 stf', u'adi 3605 stf', u'ms 25594 stf', u'hc 73721 stf', u'rcl 497 stf', u'hc 70763 stf', u'inq 2 stf', u'hc 93596 stf', u'hc 100975 stf', u'se 12 stj', u'adi 1127 stf', u'sta 32484 stf', u'hc 84768 stf', u'adi 1946 stf', u'com 7 stj', u'sta 507 stf', u'adi 354 stf', u're 129392 stf', u'adi 2566 stf', u'hc 7368611 stf', u'hc 73686 stf', u'adpf 54 stf', u'adi 3685 stf', u'hc 135558 stj', u'rhc 2 stj', u'hc 113244 stf', u'sum. 734 stf', u'if 5129 stf', u'resp 574511 stj', u'com 4 stj', u'hc 66954 stf', u'sum. 279 stf', u'rhc 65127 stj', u'sum. 691 stf', u're 566471 stf', u're 405579 stf', u'mc 2130 stj', u'hc 13897 stj', u'hc 13526 stj', u'mc 2321 stj', u'hc 88707 stf', u'hc 67271 stf', u'adpf 13 stf', u'adi 3 stf', u'hc 48629 stj', u'se 8 stj', u'hc 111953 stf', u'adi 3741 stf', u'com 3 stj', u'rhc 93248 stf', u'adi 2 stf', u'adpf 33 stf', u'adi 4307 stf', u'sta 304 stf', u'adi 2238 stf', u'hc 104206 stf', u'adi 939 stf', u're 381964 stf', u'hc 72424 stf', u'adi 2405 stf', u'adi 1351 stf', u'adi 2223 stf', u'hc 84078 stf', u'adi 3046 stf', u'adi 1797 stf', u'ms 22087 stf', u'adi 407167 stf', u're 630147 stf', u'adi 3345 stf', u'hc 90938 stf', u'hc 102826 stf', u'ss 2465 stf', u'adi 1668 stf', u'sum. 356 stf', u're 576155 stf', u'adi 3324 stf', u'ms 2 stj', u'hc 74562 stf', u'rhc 81057 stf', u'adi 2596 stf', u'adpf 12 stf', u're 592581 stf', u're 583834 stf', u'se 2 stj', u'adi 1 stf', u'adi 2675 stf', u'rhc 91553 stf', u'rp 1417 stf', u'ss 2187 stf', u'hc 92812 stf', u'hc 6865862 stf', u're 120392 stf', u're 197917 stf', u'adi 2087 stf', u'adi 1344 stf', u'hc 103826 stf', u'adi 2209 stf', u'hc 86735 stf', u'adpf 144 stf', u'adpf 79 stf', u'rhc 18802 stj', u'com 11 stj', u'hc 67531 stf', u'com 16 stj', u'adi 2690 stf', u'hc 2 stj', u'adi 4451 stf', u'hc 76930 stf', u'hc 71382 stf', u'hc 70193 stf', u'hc 82050 stf', u'hc 66806 stf', u'adi 2652 stf', u'adi 1805 stf', u're 156400 stf', u're 586995 stf'])\n"
     ]
    }
   ],
   "source": [
    "commun_nodes = set()\n",
    "for i in range(len(windows) - 1):\n",
    "    set_a = set(windows[i][1].nodes())\n",
    "    set_b = set(windows[i + 1][1].nodes())\n",
    "    inter = set_a & set_b\n",
    "    commun_nodes = commun_nodes | inter\n",
    "\n",
    "print(\"Total de nós que vivem mais de 2 anos: %s \" % len(commun_nodes))\n",
    "print(commun_nodes)"
   ]
  },
  {
   "cell_type": "code",
   "execution_count": null,
   "metadata": {},
   "outputs": [],
   "source": []
  }
 ],
 "metadata": {
  "kernelspec": {
   "display_name": "Python 2",
   "language": "python",
   "name": "python2"
  },
  "language_info": {
   "codemirror_mode": {
    "name": "ipython",
    "version": 2
   },
   "file_extension": ".py",
   "mimetype": "text/x-python",
   "name": "python",
   "nbconvert_exporter": "python",
   "pygments_lexer": "ipython2",
   "version": "2.7.14"
  }
 },
 "nbformat": 4,
 "nbformat_minor": 2
}
