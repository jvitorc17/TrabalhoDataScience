{
 "cells": [
  {
   "cell_type": "markdown",
   "metadata": {},
   "source": [
    "# <center> INTRODUÇÃO A DATASCIENCE </center> "
   ]
  },
  {
   "cell_type": "markdown",
   "metadata": {},
   "source": [
    "#### Fernando A. Correia dos S. Junior <br> João Vitor Chaves de Oliveira"
   ]
  },
  {
   "cell_type": "markdown",
   "metadata": {},
   "source": [
    "Árvore geradora mínima problema valorar as arestas <br>\n",
    "Por que é necessário ser acíclico? O grafo? "
   ]
  },
  {
   "cell_type": "markdown",
   "metadata": {},
   "source": [
    "## ToDo List\n",
    "\n",
    "- **E dos demais, quantos tem uma citação? e duas?  ## Só chamar out_degree ou in_degree passando 1,2 ...**\n",
    "- **And after that?How many has more than 10 citations? And 100? **\n",
    "- **Distribuição de graus, comparação por ano e com o total**\n",
    "- **Distribuição de número de componentes, comparação por ano e com o total**\n",
    "- Distribuição da média de nós por componentes, comparação por ano e com o total\n",
    "- Comparar medidas de centralidade, escolher 3 casos e plotar a distribuição das métricas ao longo do tempo.\n",
    "- **Hubs e Authorities** "
   ]
  },
  {
   "cell_type": "code",
   "execution_count": 1,
   "metadata": {},
   "outputs": [],
   "source": [
    "import networkx as nx\n",
    "import json\n",
    "import random\n",
    "import re\n",
    "import scipy\n",
    "import pygraphviz\n",
    "from networkx.drawing.nx_agraph import graphviz_layout\n",
    "import matplotlib.pyplot as plt\n",
    "import pandas as pd\n",
    "import numpy as np"
   ]
  },
  {
   "cell_type": "code",
   "execution_count": 2,
   "metadata": {},
   "outputs": [],
   "source": [
    "class Graph():\n",
    "    def __init__(self, file_path, graph_name=\"grafo-normalizado\"):\n",
    "        self.graph_name = graph_name\n",
    "        self.graph = self.generateGraph(file_path)\n",
    "        self.edges = list(self.graph.edges)\n",
    "        self.nodes = list(self.graph.nodes)\n",
    "        self.nodes.sort()  # lexicographical order\n",
    "        self.number_of_edges = len(self.edges)\n",
    "        self.number_of_nodes = len(self.nodes)\n",
    "        self.in_degree = {k: self.graph.in_degree(k) for k in self.nodes}\n",
    "        self.out_degree = {k: self.graph.out_degree(k) for k in self.nodes}\n",
    "        self.max_out_degree = max(self.out_degree)\n",
    "        self.min_out_degree = min(self.out_degree)\n",
    "        self.max_in_degree = max(self.in_degree)\n",
    "        self.min_in_degree = min(self.in_degree)\n",
    "\n",
    "        self.density = self.number_of_edges / (self.number_of_nodes * (self.number_of_nodes - 1))\n",
    "#         self.triangles = nx.triangles(self.graph)  # not implemented for directed type\n",
    "        \n",
    "        # measures centrality based\n",
    "        self.centralities = nx.algorithms.degree_centrality(self.graph)\n",
    "        self.betweenness = nx.algorithms.betweenness_centrality(self.graph)\n",
    "        self.closeness = nx.algorithms.closeness_centrality(self.graph)\n",
    "        self.eigenvector = nx.algorithms.eigenvector_centrality_numpy(self.graph)\n",
    "\n",
    "        self.hubs, self.authorities = nx.hits(self.graph)\n",
    "        self.reciprocity = nx.algorithms.reciprocity(self.graph)\n",
    "    \n",
    "    def reciprocity_for(self, node):\n",
    "        return nx.algorithms.reciprocity(self.graph, node)\n",
    "\n",
    "    def generateGraph(self, file_path):\n",
    "        g = nx.DiGraph()\n",
    "        graph_json = json.load(open(file_path)) \n",
    "        keys = graph_json.keys()\n",
    "        for i in keys:\n",
    "            values = graph_json[i]\n",
    "            for j in values:\n",
    "                g.add_edge(i,j)\n",
    "        return g\n",
    "\n",
    "    def saveGraph(self):\n",
    "        nx.write_graphml(self.graph, path='%s.graphml' % self.graph_name)\n",
    "    \n",
    "    def showGraph(self): #plota o grafo mas não fica tão legal \n",
    "        plt.figure(figsize=(10, 10))\n",
    "        nx.draw(self.graph, node_size=20, linewidths=1, node_color='blue', font_size=8)\n",
    "        plt.axis('equal')\n",
    "        plt.show()\n",
    "\n",
    "#     ## graph y\n",
    "#     def number_of_cliques(self, v=4):\n",
    "#         pass\n",
    "    \n",
    "#     def ego_for(self, v):\n",
    "#         # the densenty of the subgraph witout v\n",
    "#         pass\n",
    "\n",
    "#     def number_strongly_connected_component(self):\n",
    "#         return nx.number_strongly_connected_components(self.G)\n",
    "\n",
    "#     def strongly_connected_component(self):\n",
    "#         return sorted(nx.connected_components(self.G), key=len, reverse=True)\n",
    "        \n",
    "#     def degree_distribuition(self, title_year = ''):\n",
    "#         din = self.max_degree('in')\n",
    "#         dout = self.max_degree('out')\n",
    "#         MaxDegree = max(din,dout)\n",
    "#         values = np.zeros([MaxDegree+1,2])\n",
    "        \n",
    "#         for i in range(MaxDegree+1):\n",
    "#             values[i][0] = len(self.in_degree(i))\n",
    "#             values[i][1] = len(self.out_degree(i))\n",
    "#         df = pd.DataFrame(values,columns=['Grau de entrada','Grau de Saída'])\n",
    "#         p = df.plot.bar()\n",
    "#         p.set_xlabel(u'Grau')\n",
    "#         p.set_ylabel(u'Número de vértices')\n",
    "#         p.set_title(u\"Número de vértices por grau \"+title_year)\n"
   ]
  },
  {
   "cell_type": "code",
   "execution_count": 3,
   "metadata": {},
   "outputs": [],
   "source": [
    "G = Graph('normalizado_citation_map_aborto_lista_de_adj.json')"
   ]
  },
  {
   "cell_type": "code",
   "execution_count": 4,
   "metadata": {},
   "outputs": [
    {
     "data": {
      "text/plain": [
       "{u'ao 16 stf': 0.0,\n",
       " u'hc 85826 stf': 0.0,\n",
       " u'rhc 82288 stf': 0.0,\n",
       " u'hc 109133 stf': 0.0,\n",
       " u're 348827 stf': 0.0,\n",
       " u'hc 73686 stf': 0.0,\n",
       " u'ext 785 stf': 0.0,\n",
       " u'adc 12 stf': 0.0,\n",
       " u're 596682 stf': 0.0,\n",
       " u'hc 87921 stf': 0.0,\n",
       " u'hc 93596 stf': 0.0,\n",
       " u'rhc 2 stj': 0.0,\n",
       " u'hc 83227 stf': 7.552354311414224e-66,\n",
       " u'hc 89877 stf': 0.0,\n",
       " u'resp 34322 stj': 0.0,\n",
       " u'rcl 2617 stf': 0.0,\n",
       " u'rhc 3249080 stj': 0.0,\n",
       " u'adpf 73 stf': 0.0,\n",
       " u'hc 94730 stf': 1.1691110601879382e-53,\n",
       " u'hc 82684 stf': 0.0,\n",
       " u'hc 345300 stj': 0.0,\n",
       " u'hc 84095 stf': 0.0,\n",
       " u'hc 116384 stf': 0.0,\n",
       " u'hc 8142130 stf': 0.0,\n",
       " u'ao 51 stf': 0.0,\n",
       " u'rcl 5754 stf': 0.0,\n",
       " u'ap 259 stf': 0.0,\n",
       " u'adpf 54 stf': 0.0,\n",
       " u'hc 79775 stf': 0.0,\n",
       " u'hc 79776 stf': 0.0,\n",
       " u'adi 304 stf': 0.0,\n",
       " u'rcl 11022 stf': 0.0,\n",
       " u'hc 125969 stf': 1.4067356123429206e-45,\n",
       " u'sum. 734 stf': 0.0,\n",
       " u'if 5129 stf': 0.0,\n",
       " u'hc 61684 stj': 0.0,\n",
       " u're 740813 stf': 0.0,\n",
       " u'hc 84025 stf': 5.370835263139308e-05,\n",
       " u'rcl 4703 stf': 0.0,\n",
       " u'rcl 4756 stf': 0.0,\n",
       " u'inq 3719 stf': 0.0,\n",
       " u'hc 100807 stf': 0.0,\n",
       " u'adi 1105 stf': 0.0,\n",
       " u're 405579 stf': 0.1000298556486689,\n",
       " u'hc 119477 stj': 0.0,\n",
       " u'ai 795677 stf': 0.00011525063693355684,\n",
       " u'se 17 stj': 0.0,\n",
       " u'rhc 2513196 stj': 0.0,\n",
       " u'es 2 stf': 0.0,\n",
       " u'es 5 stf': 0.0,\n",
       " u'hc 86 stj': 0.0,\n",
       " u'adi 596 stf': 0.0,\n",
       " u'sum. vinc. 10 stf': 0.0,\n",
       " u'as 73 stf': 0.0,\n",
       " u'se 13 stj': 0.0,\n",
       " u'ai 676991 stf': 5.1832092638565924e-52,\n",
       " u're 140386 stf': 0.0,\n",
       " u'hc 85298 stf': 0.0,\n",
       " u'hc 98712 stf': 5.137301577014259e-05,\n",
       " u'hc 192605 stj': 0.0,\n",
       " u'rcl 1110 stf': 0.0,\n",
       " u'rhc 86681 stf': 0.0,\n",
       " u'hc 80717 stf': 0.0,\n",
       " u'ms 27405 stf': 0.0,\n",
       " u'hc 74295 stf': 0.0,\n",
       " u'inq 3983 stf': 0.001918175863609734,\n",
       " u'ms 21294 stf': 0.0,\n",
       " u're 228977 stf': 0.0,\n",
       " u'adi 3518 stf': 0.0,\n",
       " u'sum. 72 stf': 0.0,\n",
       " u'adi 1021 stf': 0.0,\n",
       " u'rhc 117164 stf': 0.0,\n",
       " u'hc 96821 stf': 0.0,\n",
       " u'sta 223 stf': 0.0,\n",
       " u'com 25 stj': 0.0,\n",
       " u'ai 413963 stf': 0.0,\n",
       " u'hc 74967 stf': 0.0,\n",
       " u'hc 7327198 stf': 0.0,\n",
       " u'ms 26602 stf': 0.0,\n",
       " u'hc 83856 stf': 0.0,\n",
       " u'se 30 stj': 0.0,\n",
       " u'sum. 39415 stf': 0.0,\n",
       " u'hc 64584 stj': 0.0,\n",
       " u'hc 109043 stf': 0.0,\n",
       " u're 289533 stf': 0.0,\n",
       " u'pet 5245 stf': 0.0,\n",
       " u'adi 2231 stf': 0.0,\n",
       " u'com 13 stj': 0.0,\n",
       " u'hc 72731 stf': 0.0,\n",
       " u'ms 22087 stf': 0.0,\n",
       " u'ai 764366 stf': 0.0,\n",
       " u'hc 83691 stf': 0.0,\n",
       " u'ss 2187 stf': 0.0,\n",
       " u'hc 1074582 stj': 0.0,\n",
       " u'se 22 stj': 0.0,\n",
       " u'inq 3966 stf': 0.0,\n",
       " u'adi 3345 stf': 0.0,\n",
       " u'hc 79285 stf': 0.0,\n",
       " u'rhc 85530 stf': 0.0,\n",
       " u'hc 83263 stf': 0.0,\n",
       " u'hc 87324 stf': 0.0,\n",
       " u'ms 24831 stf': 0.0,\n",
       " u'inq 2191 stf': 0.0,\n",
       " u'hc 166 stj': 0.0,\n",
       " u'ai 747772 stf': 7.552354311414224e-66,\n",
       " u'hc 87985 stf': 0.0,\n",
       " u'rcl 22009 stf': 0.0,\n",
       " u'adi 2596 stf': 0.0,\n",
       " u'mc 2130 stj': 0.0,\n",
       " u'mi 70863 stf': 0.0,\n",
       " u're 583834 stf': 0.0,\n",
       " u'rhc 61145 stj': 0.0,\n",
       " u'adi 3600 stf': 0.0,\n",
       " u'ai 163047 stf': 0.0,\n",
       " u'rhc 86723 stf': 0.0,\n",
       " u'hc 96072 stf': 0.0,\n",
       " u'hc 70389 stf': 0.0,\n",
       " u'rcl 2381 stf': 0.0,\n",
       " u'rcl 2 stj': 0.0,\n",
       " u'adi 3619 stf': 0.0,\n",
       " u'hc 84202 stf': 0.0,\n",
       " u'hc 110974 stf': 0.0,\n",
       " u'ms 25647 stf': 0.0,\n",
       " u'se 9868 stj': 0.0,\n",
       " u'hc 66244 stj': 0.0,\n",
       " u'rhc 119388 stf': 2.7827142845735374e-43,\n",
       " u'hc 2147646 stj': 0.0,\n",
       " u'are 891473 stf': 4.671118666418921e-08,\n",
       " u'adi 135125 stf': 0.0,\n",
       " u'are 851536 stf': 3.8655505930417526e-07,\n",
       " u'hc 115787 stf': 0.0,\n",
       " u'rcl 5019 stj': 0.0,\n",
       " u'ai 360461 stf': 0.0,\n",
       " u'com 11 stj': 0.0,\n",
       " u'hc 75069 stf': 0.0,\n",
       " u'sl 824 stf': 0.0,\n",
       " u'hc 81905 stf': 0.0,\n",
       " u'pet 2875 stf': 0.0,\n",
       " u'hc 76665 stf': 0.0,\n",
       " u'adc 1 stf': 0.0,\n",
       " u'ai 699693 stf': 0.0,\n",
       " u'ai 542358 stf': 7.552354311414224e-66,\n",
       " u'hc 113037 stf': 4.0546393469160867e-57,\n",
       " u'rcl 9584 stf': 0.0,\n",
       " u'hc 10420684 stf': 0.0,\n",
       " u're 586995 stf': 0.0,\n",
       " u'adi 3660 stf': 7.552354311414224e-66,\n",
       " u'adi 718 stf': 0.0,\n",
       " u'ext 1260 stf': 1.470741566333733e-05,\n",
       " u'sl 808 stf': 0.0,\n",
       " u're 609527 stf': 0.0,\n",
       " u'adi 2836 stf': 0.0,\n",
       " u'se 19 stj': 0.0,\n",
       " u're 550505 stf': 0.0,\n",
       " u'hc 96 stj': 0.0,\n",
       " u're 482006 stf': 0.0,\n",
       " u're 213201 stf': 0.0,\n",
       " u'rcl 497 stf': 0.0,\n",
       " u'hc 70763 stf': 0.0,\n",
       " u'adi 2734 stf': 0.0,\n",
       " u'are 727723 stf': 4.285259077867969e-05,\n",
       " u're 58025261 stf': 0.0,\n",
       " u'ms 22307 stj': 0.0,\n",
       " u'hc 93315 stf': 0.0,\n",
       " u'hc 69842 stf': 0.0,\n",
       " u're 434640 stf': 0.0,\n",
       " u'adi 354 stf': 0.0,\n",
       " u'hc 93820 stf': 0.0,\n",
       " u'mi 562 stf': 0.0,\n",
       " u're 368564 stf': 1.1169218822088932e-21,\n",
       " u'ag 504277 stj': 0.0,\n",
       " u'ac 102 stf': 0.0,\n",
       " u'ac 738 stf': 0.0,\n",
       " u'hc 10995665 stf': 0.0,\n",
       " u'ms 26325 stf': 0.0,\n",
       " u'sum. 182 stj': 0.0,\n",
       " u'hc 83704 stf': 0.0,\n",
       " u'adi 239239 stf': 0.0,\n",
       " u'aco 808 stf': 0.0,\n",
       " u're 298694 stf': 0.0,\n",
       " u'ao 22 stf': 0.0,\n",
       " u'ms 21689 stf': 0.0,\n",
       " u'hc 96883 stf': 0.0,\n",
       " u're 205999 stf': 0.0,\n",
       " u'ao 17 stf': 0.0,\n",
       " u're 377457 stf': 0.0,\n",
       " u'sum. 691 stf': 0.0,\n",
       " u'hc 83583 stf': 5.1832092638565924e-52,\n",
       " u'rcl 935 stf': 8.118895159174629e-05,\n",
       " u'adpf 77 stf': 4.178842434842392e-05,\n",
       " u'rcl 6318 stf': 0.0,\n",
       " u'hc 94615 stf': 0.0,\n",
       " u'rhc 83 stj': 0.0,\n",
       " u'adpf 97 stf': 4.0546393469160867e-57,\n",
       " u'psv 88 stf': 0.0,\n",
       " u'rcl 21419 stf': 0.0,\n",
       " u'pet 325 stf': 0.0,\n",
       " u'hc 72049 stf': 5.1832092638565924e-52,\n",
       " u'ac 1136 stf': 0.0,\n",
       " u'sum. 512 stf': 0.0,\n",
       " u'adi 4876 stf': 0.0,\n",
       " u'hc 82520 stf': 0.0,\n",
       " u'adi 110516 stf': 0.0,\n",
       " u'mi 631 stf': 0.0,\n",
       " u'hc 103195 stf': 0.0,\n",
       " u'hc 117286 stf': 0.0,\n",
       " u'adi 4277 stf': 0.14943468728620266,\n",
       " u'rcl 4733 stf': 0.0,\n",
       " u'hc 105775 stf': 0.0,\n",
       " u'adi 1610 stf': 0.0,\n",
       " u'hc 9230254 stf': 0.0,\n",
       " u'as 20 stf': 0.0,\n",
       " u'hc 75299 stf': 0.0,\n",
       " u'hc 111076 stf': 0.0,\n",
       " u'resp 367 stj': 0.0,\n",
       " u'hc 8019949 stf': 0.0,\n",
       " u'resp 574511 stj': 0.0,\n",
       " u'as 26 stf': 0.0,\n",
       " u'hc 131 stj': 0.0,\n",
       " u'sta 304 stf': 0.0,\n",
       " u'hc 99447 stf': 0.0,\n",
       " u'hc 92776 stf': 0.0,\n",
       " u'ai 786044 stf': 0.0,\n",
       " u'hc 84078 stf': 0.0,\n",
       " u'hc 8394295 stf': 0.0,\n",
       " u'are 675958 stf': 0.0,\n",
       " u'ai 523254 stf': 0.0,\n",
       " u'rcl 2256 stf': 7.863800667663716e-05,\n",
       " u'hc 90387 stf': 0.0,\n",
       " u'hc 96759 stf': 7.644970605351569e-06,\n",
       " u'ms 27422 stf': 0.0,\n",
       " u'hc 98754 stf': 0.0,\n",
       " u'ms 24099 stf': 0.0,\n",
       " u'hc 122923 stf': 6.41808797199514e-05,\n",
       " u'ext 128648 stf': 0.0,\n",
       " u'hc 102087 stf': 1.1446162626096405e-06,\n",
       " u'adpf 101 stf': 0.0,\n",
       " u'pet 240 stf': 0.0,\n",
       " u'hc 86559 stf': 0.0,\n",
       " u'hc 822 stj': 0.0,\n",
       " u'sum. 13 stf': 0.0,\n",
       " u'hc 46253 stj': 0.0,\n",
       " u'ap 465 stf': 0.0,\n",
       " u'adi 3839 stf': 0.0,\n",
       " u'psv 57 stf': 0.0,\n",
       " u'sum. vinc. 26 stf': 0.0,\n",
       " u'hc 74562 stf': 0.0,\n",
       " u'hc 79244 stf': 0.0,\n",
       " u'se 21 stj': 0.0,\n",
       " u'ao 27 stf': 0.0,\n",
       " u'ao 11 stf': 0.0,\n",
       " u'are 834534 stf': 0.0,\n",
       " u'rp 94 stj': 0.0,\n",
       " u'hc 312269 stj': 0.0,\n",
       " u'hc 86000 stf': 4.411354988075068e-05,\n",
       " u'hc 76168 stf': 0.0,\n",
       " u'adi 3 stf': 0.0,\n",
       " u'rcl 2732 stf': 0.0,\n",
       " u'hc 73261 stf': 0.0,\n",
       " u'hc 77371 stf': 0.0,\n",
       " u'adi 2087 stf': 0.0,\n",
       " u'se 2391 stj': 0.0,\n",
       " u'hc 90398 stf': 0.0,\n",
       " u're 281188 stf': 0.0,\n",
       " u'hc 81186 stj': 0.0,\n",
       " u're 546525 stf': 0.0,\n",
       " u'hc 155924 stj': 0.0,\n",
       " u'adi 3153 stf': 0.0,\n",
       " u'ext 827 stf': 0.0,\n",
       " u'hc 88319 stf': 0.0,\n",
       " u'adpf 79 stf': 0.00660821547303265,\n",
       " u'rhc 18802 stj': 0.0,\n",
       " u'ao 571 stf': 0.0,\n",
       " u'hc 75226 stf': 0.0,\n",
       " u'rhc 117981 stf': 0.0,\n",
       " u'hc 2 stj': 0.0,\n",
       " u'com 6 stj': 0.0,\n",
       " u'ap 305 stf': 0.0,\n",
       " u'resp 1411 stj': 0.0,\n",
       " u'mc 1276 stj': 0.0,\n",
       " u'mi 9 stj': 0.0,\n",
       " u'are 76697709 stf': 0.0,\n",
       " u'ro 2 stj': 0.0,\n",
       " u'mi 712 stf': 0.009086137775265546,\n",
       " u'hc 55901 stj': 0.0,\n",
       " u'hc 89965 stf': 0.0,\n",
       " u'adi 127567 stf': 0.0,\n",
       " u're 156400 stf': 0.0,\n",
       " u'rms 32504 stf': 0.0,\n",
       " u'rcl 473 stf': 0.0,\n",
       " u'hc 76381 stf': 0.0,\n",
       " u'hc 94034 stf': 0.0,\n",
       " u'hc 69438 stf': 0.0,\n",
       " u'adi 733 stf': 0.0,\n",
       " u'hc 93973 stf': 0.0,\n",
       " u'hc 82 stj': 0.0,\n",
       " u're 438639 stf': 0.0,\n",
       " u'hc 92206 stf': 0.0,\n",
       " u'hc 73721 stf': 0.0,\n",
       " u'ms 23401 stf': 0.0,\n",
       " u'ss 3772 stf': 0.0,\n",
       " u'rcl 7913 stj': 0.0,\n",
       " u'hc 43990 stj': 0.0,\n",
       " u'as 14 stf': 0.0,\n",
       " u'hc 73390 stf': 0.0,\n",
       " u're 569019 stf': 0.0,\n",
       " u'hc 88229 stf': 0.0,\n",
       " u'ai 165332 stf': 0.0,\n",
       " u'com 7 stj': 0.0,\n",
       " u'rhc 87243 stf': 0.0007997235983670438,\n",
       " u'hc 4297507 stj': 0.0,\n",
       " u'hc 9382060 stf': 0.0,\n",
       " u'hc 69603 stf': 0.0,\n",
       " u'hc 97811 stf': 0.0,\n",
       " u're 365887 stf': 0.0,\n",
       " u'com 14 stj': 0.0,\n",
       " u'inq 1769 stf': 0.0,\n",
       " u'hc 30483 stj': 0.0,\n",
       " u'pa 16 stf': 0.0,\n",
       " u'rcl 14056 stf': 0.0,\n",
       " u'aresp 303260 stj': 0.0,\n",
       " u'hc 27659 stj': 0.0,\n",
       " u'ms 24849 stf': 0.0,\n",
       " u'ai 621999 stf': 1.840986250891073e-06,\n",
       " u'adi 2960 stf': 0.0,\n",
       " u'adi 2677 stf': 0.0,\n",
       " u'hc 91089 stf': 0.0,\n",
       " u'com 10 stj': 0.0,\n",
       " u'adi 2553 stf': 0.0,\n",
       " u'adi 351031 stf': 0.0,\n",
       " u'hc 111607 stf': 0.0,\n",
       " u'rhc 27628 stj': 0.0,\n",
       " u'hc 89248 stf': 0.0,\n",
       " u're 480312 stf': 0.0,\n",
       " u'adpf 12 stf': 0.0,\n",
       " u'ai 734689 stf': 0.0,\n",
       " u'ai 56224192 stf': 0.0,\n",
       " u'hc 119362 stf': 0.0,\n",
       " u'hc 115327 stf': 0.0,\n",
       " u'hc 48629 stj': 0.0,\n",
       " u'hc 84658 stf': 0.0,\n",
       " u're 595495 stf': 0.0,\n",
       " u'hc 71610 stf': 0.0,\n",
       " u'hc 113653 stf': 0.0,\n",
       " u'adi 4245 stf': 0.0,\n",
       " u'adi 5170 stf': 0.0,\n",
       " u're 855178 stf': 0.0,\n",
       " u'adi 2797 stf': 0.00592562400231885,\n",
       " u'aia 2 stj': 0.0,\n",
       " u'inq 510 stf': 0.0,\n",
       " u'hc 98771 stf': 0.0,\n",
       " u'adpf 126 stf': 0.0,\n",
       " u'hc 35820 stj': 0.0,\n",
       " u'hc 91634 stf': 0.0,\n",
       " u'hc 92839 stf': 0.0,\n",
       " u'hc 13526 stj': 0.0,\n",
       " u'ai 242317 stf': 0.0,\n",
       " u'hc 64158 stj': 0.0,\n",
       " u'adi 3788 stf': 0.0,\n",
       " u'inq 2 stf': 0.0,\n",
       " u'ms 11343 stj': 0.0,\n",
       " u'hc 87913 stf': 0.0,\n",
       " u'adi 1805 stf': 0.0,\n",
       " u'hc 72424 stf': 0.0,\n",
       " u'ai 593514 stf': 0.0,\n",
       " u'ai 574057 stf': 0.0,\n",
       " u're 592581 stf': 0.0,\n",
       " u'hc 7019310 stf': 0.0,\n",
       " u'hc 7955152 stf': 0.0,\n",
       " u'hc 87164 stf': 0.0,\n",
       " u'hc 103835 stf': 0.0,\n",
       " u'se 5 stj': 0.0,\n",
       " u'hc 88709 stf': 0.0,\n",
       " u'hc 73522 stf': 0.0,\n",
       " u'com 1 stj': 0.0,\n",
       " u'mc 2332 stj': 0.0,\n",
       " u'hc 8294993 stf': 0.0,\n",
       " u'hc 83617 stf': 0.0,\n",
       " u'ms 26584 stf': 0.0,\n",
       " u'rcl 14872 stf': 0.0027428782920601255,\n",
       " u'ms 24368 stf': 0.0,\n",
       " u'as 25 stf': 0.0,\n",
       " u'pet 1404 stf': 0.0,\n",
       " u'sum. vinc. 37 stf': 0.0,\n",
       " u'hc 77723 stf': 0.0,\n",
       " u'sta 32484 stf': 0.0,\n",
       " u'el 1 stf': 0.0,\n",
       " u'hc 54663 stj': 0.0,\n",
       " u'adpf 132 stf': 0.1544175193197994,\n",
       " u're 585932 stf': 0.0,\n",
       " u'hc 83157 stf': 0.0,\n",
       " u'rhc 86534 stf': 0.0,\n",
       " u'ro 23 stj': 0.0,\n",
       " u'rhc 77255 stf': 0.0,\n",
       " u'ai 307711 stf': 0.0,\n",
       " u'hc 93857 stf': 0.0,\n",
       " u'ms 2 stj': 0.0,\n",
       " u'hc 16546 stj': 0.0,\n",
       " u'hc 10435 stj': 0.0,\n",
       " u'adpf 4684 stf': 0.0,\n",
       " u're 71880764 stf': 0.0,\n",
       " u'hc 9321981 stf': 0.0,\n",
       " u'se 20 stj': 0.0,\n",
       " u'adi 1498 stf': 0.0,\n",
       " u'pet 1641 stf': 0.0,\n",
       " u'se 11 stj': 0.0,\n",
       " u'rms 2 stj': 0.0,\n",
       " u'adi 9 stf': 0.0,\n",
       " u'ai 508678 stf': 0.0,\n",
       " u'pet 3486 stf': 0.0,\n",
       " u'hc 6865862 stf': 0.0,\n",
       " u'hc 106211 stf': 0.0,\n",
       " u're 14037023 stf': 0.0,\n",
       " u'adi 2599 stf': 0.0,\n",
       " u'hc 126560 stf': 6.162388843978672e-05,\n",
       " u'hc 110438 stf': 0.0,\n",
       " u're 412654 stf': 0.0,\n",
       " u'adi 2652 stf': 0.0,\n",
       " u'ai 339607 stf': 0.0,\n",
       " u'hc 86735 stf': 0.0,\n",
       " u'hc 101205 stf': 0.0,\n",
       " u'rhc 118004 stf': 0.0,\n",
       " u'ss 2465 stf': 0.0,\n",
       " u'sum. 287 stf': 0.0,\n",
       " u're 42314155 stf': 0.0,\n",
       " u'pet 1954 stf': 0.0,\n",
       " u'hc 90978 stf': 0.0,\n",
       " u'mi 438 stf': 0.0,\n",
       " u'hc 83148 stf': 0.0,\n",
       " u'hc 97996 stf': 5.169382629136905e-05,\n",
       " u'hc 82919 stf': 0.0,\n",
       " u'mi 708 stf': 0.0,\n",
       " u'adi 2417 stf': 0.0,\n",
       " u'rhc 106346 stf': 0.0,\n",
       " u'cc 1988 stj': 0.0,\n",
       " u'rhc 111639 stf': 0.0,\n",
       " u'hc 7923833 stf': 0.0,\n",
       " u'pet 1984 stf': 0.0,\n",
       " u'hc 82050 stf': 0.0,\n",
       " u'hc 7504857 stf': 0.0,\n",
       " u're 191531 stf': 0.0,\n",
       " u'hc 76930 stf': 0.0,\n",
       " u'ms 26441 stf': 0.0,\n",
       " u'are 800721 stf': 0.0,\n",
       " u'hc 11486754 stf': 0.0,\n",
       " u're 630147 stf': 0.0,\n",
       " u'sum. 284 stf': 0.0,\n",
       " u'adi 1458 stf': 0.0,\n",
       " u'adi 2828 stf': 0.0,\n",
       " u'adi 2777 stf': 0.0,\n",
       " u'adi 3605 stf': 0.0,\n",
       " u'rcl 47 stj': 0.0,\n",
       " u'ext 703 stf': 0.0,\n",
       " u'sum. 721 stf': 0.0,\n",
       " u'rcl 2069 stf': 0.0,\n",
       " u'hc 100888 stf': 0.0,\n",
       " u'hc 69377 stf': 0.0,\n",
       " u'hc 95003 stf': 0.0,\n",
       " u'hc 99984 stf': 1.3782360907622065e-06,\n",
       " u'se 12 stj': 0.0,\n",
       " u'hc 90938 stf': 0.0,\n",
       " u'hc 150608 stj': 0.0,\n",
       " u'adi 1946 stf': 0.002390321333814584,\n",
       " u'rcl 35 stj': 0.0,\n",
       " u'hc 39070 stj': 0.0,\n",
       " u'sum. 279 stf': 0.0,\n",
       " u're 207928 stf': 0.0,\n",
       " u'aresp 53100 stj': 0.0,\n",
       " u'adi 3823 stf': 0.0,\n",
       " u'resp 7833497 stj': 0.0,\n",
       " u'hc 95010 stf': 1.3782360907622065e-06,\n",
       " u'hc 94810 stf': 0.0,\n",
       " u'adi 656 stf': 0.0,\n",
       " u'ai 847452 stf': 0.0,\n",
       " u're 515427 stf': 0.0,\n",
       " u'com 15 stj': 0.0,\n",
       " u'hc 111840 stf': 0.0,\n",
       " u'hc 8987737 stf': 0.0,\n",
       " u'hc 150608 stf': 0.0,\n",
       " u'adi 2403 stf': 0.0,\n",
       " u'hc 91407 stf': 0.0,\n",
       " u'mc 4307 stj': 0.0,\n",
       " u'hc 86019 stf': 0.0,\n",
       " u'inq 3507 stf': 0.0,\n",
       " u'adpf 187 stf': 0.0,\n",
       " u'se 18 stj': 0.0,\n",
       " u'hc 103308 stf': 0.0,\n",
       " u'ai 447774 stf': 0.0,\n",
       " u'rms 22307 stf': 0.0,\n",
       " u'adpf 178 stf': 0.0,\n",
       " u'ms 23619 stf': 0.0,\n",
       " u'rcl 16419 stf': 0.0,\n",
       " u'adi 2224 stf': 0.0,\n",
       " u'inq 3515 stf': 0.0,\n",
       " u're 132747 stf': 0.0,\n",
       " u'hc 81912 stf': 0.0,\n",
       " u'hc 200089 stj': 0.0,\n",
       " u'mc 2321 stj': 0.0,\n",
       " u'adi 2587 stf': 0.0,\n",
       " u'ms 26384 stf': 0.0,\n",
       " u're 597994 stf': 0.0,\n",
       " u'adpf 13 stf': 0.0,\n",
       " u'cm 20 stf': 0.0,\n",
       " u'hc 87910 stf': 0.0,\n",
       " u're 439003 stf': 0.0,\n",
       " u'hc 87425 stf': 0.0,\n",
       " u'hc 81149 stf': 0.0,\n",
       " u're 351750 stf': 0.0,\n",
       " u'hc 174693 stj': 0.0,\n",
       " u'hc 73783 stf': 0.0,\n",
       " u'rcl 5826 stf': 0.0,\n",
       " u'adi 2418 stf': 0.0,\n",
       " u'hc 89196 stf': 0.0,\n",
       " u'ms 2009 stj': 0.0,\n",
       " u'as 16 stf': 0.0,\n",
       " u'adi 1898 stf': 0.0,\n",
       " u'adi 4307 stf': 0.0,\n",
       " u'adc 4 stf': 0.0,\n",
       " u'hc 80315 stf': 0.0,\n",
       " u'apn 306 stj': 0.0,\n",
       " u'rcl 48 stj': 0.0,\n",
       " u'hc 94311 stf': 5.380740143373629e-05,\n",
       " u'inq 2197 stf': 7.552354311414224e-66,\n",
       " u'hc 96168 stf': 0.0,\n",
       " u'ap 528 stf': 0.0,\n",
       " u'hc 99724 stf': 5.704039430493007e-05,\n",
       " u'adi 1351 stf': 0.11841105016450401,\n",
       " u'sum. vinc. 14 stf': 0.0,\n",
       " u'hc 92989 stf': 0.0,\n",
       " u'hc 247346 stj': 0.0,\n",
       " u'as 22 stf': 0.0,\n",
       " u'hc 103302 stf': 0.0,\n",
       " u'hc 87114 stf': 4.0546393469160867e-57,\n",
       " u'adi 1276 stf': 0.0,\n",
       " u'rhc 80757 stf': 2.9890389140474476e-44,\n",
       " u'ms 22486 stf': 0.0,\n",
       " u'cr 4 stj': 0.0,\n",
       " u'hc 91729 stf': 0.0,\n",
       " u'hc 97761 stf': 0.0,\n",
       " u'rcl 8668 stf': 0.0,\n",
       " u'hc 127483 stf': 0.0,\n",
       " u'rhc 90197 stf': 0.0,\n",
       " u're 257533 stf': 0.0,\n",
       " u'hc 79748 stf': 0.0,\n",
       " u'adi 2534 stf': 0.0,\n",
       " u'hc 2009 stj': 0.0,\n",
       " u'com 40 stj': 0.0,\n",
       " u'adpf 378 stf': 0.0008785138199436091,\n",
       " u'hc 111953 stf': 1.8076851517038195e-09,\n",
       " u'rhc 88330 stf': 3.711355997735727e-05,\n",
       " u're 641320 stf': 0.118938508314055,\n",
       " u'adpf 347 stf': 0.0,\n",
       " u'ai 189433 stf': 0.0,\n",
       " u'adi 349 stf': 0.0,\n",
       " u'pet 431 stf': 0.0,\n",
       " u'apn 244 stj': 0.0,\n",
       " u're 194872 stf': 0.0,\n",
       " u'hc 45444 stj': 0.0,\n",
       " u'ai 72878524 stf': 0.0,\n",
       " u'hc 99888 stf': 0.0,\n",
       " u'mi 20 stf': 0.0,\n",
       " u'se 10 stj': 0.0,\n",
       " u'ao 278 stf': 0.0,\n",
       " u'hc 7634769 stf': 0.0,\n",
       " u'rms 21512 stf': 0.0,\n",
       " u'adi 939 stf': 0.0,\n",
       " u'hc 84014 stf': 0.0,\n",
       " u'ms 26595 stf': 0.0,\n",
       " u're 633703 stf': 0.01956218430583568,\n",
       " u're 199800 stf': 0.0,\n",
       " u'are 923172 stf': 0.00013413898763672746,\n",
       " u'as 19 stf': 0.0,\n",
       " u'adi 2209 stf': 0.0,\n",
       " u'hc 90617 stf': 0.00240954819463848,\n",
       " u'hc 80179 stf': 0.0,\n",
       " u'adi 1002 stf': 0.0,\n",
       " u'hc 90716 stf': 0.0,\n",
       " u'hc 87571 stf': 0.0,\n",
       " u'hc 89190 stf': 0.0,\n",
       " u'ai 48228458 stf': 0.0,\n",
       " u'ai 741535 stf': 0.0,\n",
       " u'hc 104285 stf': 7.225503718195698e-54,\n",
       " u'hc 16996 stj': 0.0,\n",
       " u're 376607 stf': 0.0,\n",
       " u'hc 101332 stf': 3.653272371112073e-07,\n",
       " u'hc 76322 stf': 0.0,\n",
       " u'hc 8219187 stf': 0.0,\n",
       " u'hc 94829 stf': 0.0,\n",
       " u'are 737174 stf': 0.0,\n",
       " u'hc 79212 stf': 0.0,\n",
       " u'sum. 439 stj': 0.0,\n",
       " u'ms 24268 stf': 0.0,\n",
       " u'hc 71382 stf': 0.0,\n",
       " u'pet 4837 stf': 0.0,\n",
       " u'adi 2332 stf': 0.0,\n",
       " u'hc 66806 stf': 0.0,\n",
       " u'adi 3794 stf': 0.0,\n",
       " u'rcl 14267 stf': 0.0,\n",
       " u'hc 68483 stf': 0.0,\n",
       " u'sum. 696 stf': 0.0,\n",
       " u'hc 49117 stj': 0.0,\n",
       " u'ao 12 stf': 0.0,\n",
       " u'hc 97256 stf': 0.0015840674530425503,\n",
       " u'adi 2591 stf': 0.0,\n",
       " u'hc 86522 stf': 0.0,\n",
       " u'sta 312 stf': 0.0,\n",
       " u'sum. 394 stf': 0.0,\n",
       " u'rcl 2138 stf': 0.0,\n",
       " u'rhc 93248 stf': 0.0,\n",
       " u'hc 83806 stf': 0.0,\n",
       " u'adi 3510 stf': 0.10516352489438414,\n",
       " u'inq 2606 stf': 0.0,\n",
       " u'ac 2 stf': 0.0,\n",
       " u'inq 718 stf': 0.0,\n",
       " u'se 16 stj': 0.0,\n",
       " u'hc 91603 stf': 0.0,\n",
       " u'rcl 10272 stf': 0.0,\n",
       " u'hc 98130 stf': 0.0,\n",
       " u'rcl 1852 stf': 0.0,\n",
       " u're 357450 stf': 1.168670224121154e-39,\n",
       " u'inq 25717 stf': 0.0,\n",
       " u'inq 687 stf': 0.0,\n",
       " u'rcl 1830 stf': 0.0,\n",
       " u'hc 86560 stf': 0.0,\n",
       " u'hc 69657 stf': 0.0,\n",
       " u'ss 1272 stf': 0.0,\n",
       " u'ss 444 stf': 0.0,\n",
       " u'hc 132467 stf': 1.522087338092778e-33,\n",
       " u'ai 839502 stf': 3.5627706855023493e-06,\n",
       " u'hc 76347 stf': 0.0,\n",
       " u'adpf 10 stf': 0.0,\n",
       " u'mc 11109 stj': 0.0,\n",
       " u'adi 3574 stf': 0.0,\n",
       " u'ai 808361 stf': 0.0,\n",
       " u'hc 97688 stf': 0.0,\n",
       " u'rhc 117976 stf': 0.0,\n",
       " u'mi 362 stf': 0.0,\n",
       " u'hc 100979 stf': 0.0,\n",
       " u'hc 101822 stf': 0.0,\n",
       " u'hc 86109 stf': 0.0,\n",
       " u'rhc 117983 stf': 0.0,\n",
       " u'hc 84997 stf': 0.0,\n",
       " u're 158564 stf': 0.0,\n",
       " u'mc 491 stj': 0.0,\n",
       " u'adpf 14 stf': 0.0,\n",
       " u'rp 1391 stf': 0.0,\n",
       " u'as 3631 stf': 0.0,\n",
       " u'sum. 280 stf': 0.0,\n",
       " u'hc 85068 stf': 0.0,\n",
       " u'mc 2396 stj': 0.0,\n",
       " u'hc 9100572 stf': 0.0,\n",
       " u're 584608 stf': 0.0,\n",
       " u'adi 3463 stf': 0.0,\n",
       " u'hc 118714 stf': 0.0,\n",
       " u'hc 8621327 stf': 0.0,\n",
       " u'hc 76991 stf': 0.0,\n",
       " u'hc 1998 stj': 0.0,\n",
       " u'adi 2857 stf': 0.0,\n",
       " u'aresp 101565 stj': 0.0,\n",
       " u'hc 93904 stf': 0.0,\n",
       " u'hc 84326 stf': 3.059300792735988e-05,\n",
       " u'adpf 72 stf': 0.0,\n",
       " u'hc 84935 stf': 3.462038086877424e-07,\n",
       " u'com 4196 stj': 0.0,\n",
       " u'hc 54513 stj': 0.0,\n",
       " u'hc 98901 stf': 0.0,\n",
       " u'as 12 stf': 0.0,\n",
       " u'ap 331 stf': 0.0,\n",
       " u'hc 81632 stf': 0.0,\n",
       " u'rcl 5192 stf': 0.0,\n",
       " u'adi 1102 stf': 0.0,\n",
       " u'rcl 4 stj': 0.0,\n",
       " u're 14043673 stf': 0.0,\n",
       " u'adi 2304 stf': 0.0,\n",
       " u'hc 85237 stf': 0.0,\n",
       " u'ext 669 stf': 0.0,\n",
       " u'hc 79812 stf': 0.0,\n",
       " u'ai 768852 stf': 0.0,\n",
       " u'ms 21293 stf': 0.0,\n",
       " u'adi 233240 stf': 0.0,\n",
       " u'hc 82149 stf': 0.0,\n",
       " u'hc 83941 stf': 0.0,\n",
       " u'rcl 5413 stf': 0.0,\n",
       " u'hc 75965 stf': 0.0,\n",
       " u're 158314 stf': 0.0,\n",
       " u'rcl 15969 stj': 0.0,\n",
       " u'hc 116653 stf': 0.0,\n",
       " u'hc 13148049 stj': 0.0,\n",
       " u'hc 75343 stf': 0.0,\n",
       " u'hc 80897 stf': 0.0,\n",
       " u'hc 82686 stf': 0.0,\n",
       " u'hc 88672 stf': 0.0,\n",
       " u'hc 104229 stf': 0.0,\n",
       " u'hc 81685 stf': 1.639731418597691e-05,\n",
       " u'hc 94872 stf': 0.0,\n",
       " u'adi 1600 stf': 0.0,\n",
       " u'hc 69001 stf': 0.0,\n",
       " u'hc 273197 stj': 0.0,\n",
       " u'mc 2401 stj': 0.0,\n",
       " u're 157228 stf': 0.0,\n",
       " u'adi 3300 stf': 0.0,\n",
       " u'ms 40 stj': 0.0,\n",
       " u'resp 1208525 stj': 0.0,\n",
       " u'hc 89525 stf': 0.0,\n",
       " u'hc 118222 stf': 0.0,\n",
       " u'hc 87724 stf': 0.0021757706393823253,\n",
       " u'hc 89675 stf': 0.0,\n",
       " u'hc 6727141 stf': 0.0,\n",
       " u'adi 3046 stf': 0.0,\n",
       " u'hc 43862 stj': 0.0,\n",
       " u'ai 622001 stf': 1.857242792283554e-06,\n",
       " u'rhc 122683 stf': 5.445788594274283e-07,\n",
       " u'adi 3112 stf': 0.00254588988062041,\n",
       " u'ms 25441 stf': 0.0,\n",
       " u'adpf 172 stf': 0.009243645750074244,\n",
       " u'com 19 stj': 0.0,\n",
       " u'adpf 388 stf': 0.013262312802768772,\n",
       " u'hc 100576 stf': 8.412208245714083e-11,\n",
       " u'hc 94526 stf': 0.0,\n",
       " u'ar 56 stj': 0.0,\n",
       " u'hc 170 stj': 0.0,\n",
       " u'rhc 83177 stf': 0.0,\n",
       " u'hc 77024 stf': 0.0,\n",
       " u'hc 106991 stf': 0.0,\n",
       " u'hc 96539 stf': 0.0,\n",
       " u'hc 8118612 stf': 0.0,\n",
       " u'pet 693 stf': 0.0,\n",
       " u'mi 585 stf': 0.0,\n",
       " u'ai 703269 stf': 0.0,\n",
       " u'adi 129 stf': 0.0,\n",
       " u'hc 85089 stf': 0.0,\n",
       " u'ai 427186 stf': 0.0,\n",
       " u'adi 213004 stf': 0.0,\n",
       " u'ap 33611 stf': 0.0,\n",
       " u'cc 6646 stj': 0.0,\n",
       " u'sl 838 stf': 0.0,\n",
       " u'ms 23868 stf': 0.0,\n",
       " u'hc 84 stj': 0.0,\n",
       " u'hc 82959 stf': 0.0,\n",
       " u'mi 342 stf': 0.0,\n",
       " u'adi 3741 stf': 0.0,\n",
       " u'ao 21 stf': 0.0,\n",
       " u'ao 62 stf': 0.0,\n",
       " u'hc 89994 stf': 0.0,\n",
       " u'se 9 stj': 0.0,\n",
       " u'rcl 3314 stf': 0.0,\n",
       " u'adi 2675 stf': 0.0,\n",
       " u'ai 757224 stf': 0.0,\n",
       " u'adi 3105 stf': 0.0,\n",
       " u'rcl 17153 stf': 0.0,\n",
       " u'se 141 stj': 0.0,\n",
       " u'rhc 56693 stj': 0.0,\n",
       " u're 447584 stf': 0.0,\n",
       " u'hc 86213 stf': 0.0,\n",
       " u'hc 97462 stf': 0.0,\n",
       " u'ext 795 stf': 0.0,\n",
       " u'rms 22089 stj': 0.0,\n",
       " u'sum. 282 stf': 0.0,\n",
       " u'hc 79238 stf': 0.0,\n",
       " u'resp 578585 stj': 0.0,\n",
       " u'hc 119600 stf': 1.5668023000547788e-08,\n",
       " u'hc 202826 stj': 0.0,\n",
       " u'hc 9597845 stf': 0.0,\n",
       " u'hc 92595 stf': 0.0,\n",
       " u'rcl 27 stj': 0.0,\n",
       " u'adpf 144 stf': 0.01827766190311506,\n",
       " u'hc 103459 stf': 0.0,\n",
       " u're 161338 stf': 0.0,\n",
       " u'hc 126046 stf': 1.4067356123429206e-45,\n",
       " u'hc 79503 stf': 0.0,\n",
       " u'rhc 97477 stf': 0.0,\n",
       " u'ai 825520 stf': 0.0,\n",
       " u'mc 130 stj': 0.0,\n",
       " u'hc 135558 stj': 0.0,\n",
       " u'se 3 stj': 0.0,\n",
       " u'hc 92566 stf': 0.0,\n",
       " u'adpf 7 stf': 0.0,\n",
       " u'ai 153310 stf': 0.0,\n",
       " u'resp 148897 stj': 0.0,\n",
       " u're 191530 stf': 0.0,\n",
       " u'rhc 81395 stf': 0.0,\n",
       " u're 545503 stf': 0.0,\n",
       " u'adi 154 stf': 0.0,\n",
       " u'aresp 35333 stj': 0.0,\n",
       " u'rhc 9019748 stf': 0.0,\n",
       " u'rcl 31409 stf': 0.0,\n",
       " u'are 657355 stf': 0.0,\n",
       " u'ai 591414 stf': 0.0,\n",
       " u'hc 13897 stj': 0.0,\n",
       " u're 487398 stf': 0.0,\n",
       " u'hc 96486 stf': 0.0,\n",
       " u'hc 88707 stf': 0.0,\n",
       " u'ms 763 stj': 0.0,\n",
       " u'hc 103282 stf': 0.0,\n",
       " u're 307112 stf': 0.0,\n",
       " u'hc 8345871 stf': 0.0,\n",
       " u'hc 82199 stf': 0.0,\n",
       " u're 542554 stf': 0.0,\n",
       " u'ai 632877 stf': 1.0787300878484415e-06,\n",
       " u'hc 68658 stf': 0.0,\n",
       " u'hc 108232 stf': 0.0,\n",
       " u'hc 82880 stf': 0.0,\n",
       " u'hc 180104 stj': 0.0,\n",
       " u'adi 2628 stf': 0.0,\n",
       " u'hc 115893 stf': 0.0,\n",
       " u'hc 104206 stf': 0.0,\n",
       " u'ai 622527 stf': 0.0,\n",
       " u'adi 4274 stf': 4.0546393469160867e-57,\n",
       " u'com 3 stj': 0.0,\n",
       " u're 590964 stf': 0.0,\n",
       " u'hc 84422 stf': 0.0,\n",
       " u're 235736 stf': 0.0,\n",
       " u'hc 150068 stj': 0.0,\n",
       " u'hc 82980 stf': 0.003877579406265062,\n",
       " u'hc 81003 stf': 0.0,\n",
       " u'hc 82782 stf': 0.0,\n",
       " u're 511961 stf': 7.979035069309272e-22,\n",
       " u'ap 470 stf': 0.0,\n",
       " u're 381964 stf': 0.0,\n",
       " u'pet 2515 stf': 0.0,\n",
       " u'sum. 704 stf': 0.0,\n",
       " u'sta 507 stf': 2.7827142845735374e-43,\n",
       " u'sum. 524 stf': 0.0,\n",
       " u'ac 868 stf': 0.0,\n",
       " u'hc 84474 stf': 0.0,\n",
       " u'hc 82677 stf': 0.0,\n",
       " u'aco 714 stf': 0.0,\n",
       " u'hc 94469 stf': 6.942049921471901e-05,\n",
       " u'hc 87585 stf': 0.0,\n",
       " u'hc 67772 stf': 0.0,\n",
       " u're 388830 stf': 0.0,\n",
       " u'inq 656 stf': 0.0,\n",
       " u'hc 92812 stf': 0.0,\n",
       " u'adi 3148 stf': 0.0,\n",
       " u'rms 15156 stj': 0.0,\n",
       " u'rhc 81057 stf': 0.0,\n",
       " u'hc 93283 stf': 3.557256077396356e-38,\n",
       " u'hc 84420 stf': 0.0,\n",
       " u'ac 4044 stf': 0.0,\n",
       " u'ms 21564 stf': 0.0,\n",
       " u'pet 195411 stf': 0.0,\n",
       " u'hc 93489 stf': 0.0,\n",
       " u're 37745712 stf': 0.0,\n",
       " u'ms 4 stj': 0.0,\n",
       " u'sum. 719 stf': 0.0,\n",
       " u'hc 8394762 stf': 0.0,\n",
       " u'ac 3865 stf': 0.0,\n",
       " u'sum. 37 stf': 0.0,\n",
       " u're 576155 stf': 0.0,\n",
       " u'hc 85629 stf': 0.0,\n",
       " u'rhc 65127 stj': 0.0,\n",
       " u'hc 84928 stf': 0.0,\n",
       " u'ag 289281 stj': 0.0,\n",
       " u'adi 2659 stf': 0.0,\n",
       " u'ro 43 stj': 0.0,\n",
       " u're 179500 stf': 0.0,\n",
       " u'hc 95942 stf': 1.4067356123429206e-45,\n",
       " u'hc 312379 stj': 0.0,\n",
       " u'ext 1251 stf': 0.0,\n",
       " u'hc 93188 stf': 0.0,\n",
       " u'hc 126785 stf': 0.0,\n",
       " u'hc 8570472 stf': 0.0,\n",
       " u'pet 1886 stf': 0.0,\n",
       " u'adi 283 stf': 0.0,\n",
       " u'ms 23851 stf': 0.0,\n",
       " u'hc 84981 stf': 0.0,\n",
       " u'hc 90750 stf': 0.0,\n",
       " u'hc 95 stj': 0.0,\n",
       " u'hc 121003 stf': 0.0,\n",
       " u'ao 43 stf': 0.0,\n",
       " u're 166122 stf': 0.0,\n",
       " u'se 15 stj': 0.0,\n",
       " u'hc 87271 stf': 0.0,\n",
       " u'hc 102826 stf': 4.212859878727119e-07,\n",
       " u'ai 457290 stf': 2.176817924009924e-48,\n",
       " u'rcl 4335 stf': 0.0,\n",
       " u'hc 74281 stf': 0.0,\n",
       " u'adi 3147 stf': 0.0,\n",
       " u'ai 64919147 stf': 0.0,\n",
       " u'rhc 116381 stf': 5.626627068097973e-06,\n",
       " u'hc 77717 stf': 0.0,\n",
       " u'hc 84097 stf': 0.0,\n",
       " u'hc 67531 stf': 0.0,\n",
       " u'com 2 stj': 0.0,\n",
       " u're 14119054 stf': 0.0,\n",
       " u'adi 1050 stf': 0.0,\n",
       " u'hc 85679 stf': 0.0,\n",
       " u'hc 71834 stf': 0.0,\n",
       " u'hc 70193 stf': 0.0031950718209545798,\n",
       " u'hc 80511 stf': 0.0,\n",
       " u'pet 2225 stf': 0.0,\n",
       " u'ao 25 stf': 0.0,\n",
       " u'hc 83177 stj': 0.0,\n",
       " u'hc 80 stj': 0.0,\n",
       " u'adi 3819 stf': 0.0,\n",
       " u'adi 2316 stf': 1.100551709046881e-21,\n",
       " u'rcl 6811 stf': 0.0,\n",
       " u'hc 68219 stf': 0.0,\n",
       " u'ms 25594 stf': 0.0,\n",
       " u'hc 81468 stf': 0.0,\n",
       " u'hc 77784 stf': 0.0,\n",
       " u're 631102 stf': 0.01051976170365445,\n",
       " u'hc 67271 stf': 0.0,\n",
       " u'rcl 167 stj': 0.0,\n",
       " u'hc 122791 stf': 1.3218529384713209e-08,\n",
       " u'hc 75354 stf': 5.1687106086567965e-05,\n",
       " u'sum. 636 stf': 0.0,\n",
       " u'hc 6932511 stf': 0.0,\n",
       " u'adi 1127 stf': 0.0,\n",
       " u'hc 10127564 stf': 0.0,\n",
       " u'sum. 288 stf': 0.0,\n",
       " u'adi 3137 stf': 0.0,\n",
       " u'hc 87 stj': 0.0,\n",
       " u'adi 605 stf': 0.0,\n",
       " u'adc 8 stf': 0.0,\n",
       " u'ai 547827 stf': 0.0,\n",
       " u'adi 1662 stf': 0.0,\n",
       " u'aia 18 stj': 0.0,\n",
       " u'hc 92569 stf': 0.0,\n",
       " u'hc 7368611 stf': 0.0,\n",
       " u'rcl 4049 stf': 0.0,\n",
       " u'adi 407167 stf': 0.0,\n",
       " u'hc 91386 stf': 0.0,\n",
       " u're 129391 stf': 0.0,\n",
       " u'adi 3685 stf': 0.0,\n",
       " u'rhc 75917 stf': 0.0,\n",
       " u'inq 1622 stf': 7.552354311414224e-66,\n",
       " u'hc 83804 stf': 0.0,\n",
       " u're 627255 stf': 2.176817924009924e-48,\n",
       " u're 397762 stf': 0.0,\n",
       " u'ms 26603 stf': 0.0,\n",
       " u'pet 487 stf': 0.0,\n",
       " u'adi 5240 stf': 0.0,\n",
       " u'hc 100616 stf': 0.0,\n",
       " u'sum. 454 stf': 0.0,\n",
       " u'cc 7159 stf': 0.0,\n",
       " u'hc 84486 stf': 8.018080670972385e-05,\n",
       " u'rcl 1507 stf': 0.0,\n",
       " u'hc 110892 stf': 0.0,\n",
       " u're 255785 stf': 0.0,\n",
       " u'hc 9060294 stf': 0.0,\n",
       " u'ext 1155 stf': 0.0023110508121481476,\n",
       " u're 566471 stf': 0.0,\n",
       " u'hc 71172 stf': 0.0,\n",
       " u'mc 1946 stj': 0.0,\n",
       " u'ao 93 stf': 0.0,\n",
       " u'ao 20 stf': 0.0,\n",
       " u'hc 99929 stf': 0.0,\n",
       " u'ao 90 stf': 0.0,\n",
       " u'se 62 stj': 0.0,\n",
       " u'are 639228 stf': 0.0,\n",
       " u'mi 283 stf': 0.0,\n",
       " u're 559135 stf': 0.0,\n",
       " u'ms 28306 stf': 0.0,\n",
       " u'pet 2267 stf': 0.0,\n",
       " u'rhc 116071 stf': 0.0,\n",
       " u'adi 3831 stf': 0.0,\n",
       " u're 26518519 stf': 0.0,\n",
       " u'hc 85400 stf': 0.0,\n",
       " u'pet 3388 stf': 0.0,\n",
       " u'hc 634 stj': 0.0,\n",
       " u're 140370 stf': 0.0,\n",
       " u'mi 485 stf': 0.0,\n",
       " u'sum. 349 stf': 0.0,\n",
       " u'hc 90707 stf': 0.0,\n",
       " u'as 40 stf': 0.0,\n",
       " u'rhc 89889 stf': 0.0,\n",
       " u'ai 805701 stf': 0.0,\n",
       " u'adi 353 stf': 0.0,\n",
       " u'rcl 2186 stj': 0.0,\n",
       " u'com 16 stj': 0.0,\n",
       " u'rcl 2657 stf': 0.0,\n",
       " u'aresp 38595 stj': 0.0,\n",
       " u'adi 2 stf': 0.0,\n",
       " u'mi 2 stf': 0.0,\n",
       " u're 191526 stf': 0.0,\n",
       " u'hc 82128 stf': 0.0,\n",
       " u'hc 80508 stf': 5.1832092638565924e-52,\n",
       " u'adi 2238 stf': 0.0,\n",
       " u'adi 3263 stf': 0.0,\n",
       " u're 388660 stf': 0.0,\n",
       " u'mi 107 stf': 0.0,\n",
       " u'hc 30299 stj': 0.0,\n",
       " u'adi 2405 stf': 0.0,\n",
       " u'adi 3586 stf': 0.0,\n",
       " u'adi 105792 stf': 0.0,\n",
       " u'inq 1 stf': 0.0,\n",
       " u'aresp 506742 stj': 0.0,\n",
       " u'hc 8213839 stf': 0.0,\n",
       " u'adi 2358 stf': 0.0,\n",
       " u'adi 1797 stf': 0.0,\n",
       " u'aia 16 stj': 0.0,\n",
       " u'ai 848332 stf': 0.0,\n",
       " u'adi 3535 stf': 0.0,\n",
       " u'hc 93343 stf': 0.0,\n",
       " u're 191480 stf': 0.0,\n",
       " u'hc 742 stj': 0.0,\n",
       " u'hc 20608 stj': 0.0,\n",
       " u'adi 2329 stf': 0.0,\n",
       " u'hc 91476 stf': 0.0,\n",
       " ...}"
      ]
     },
     "execution_count": 4,
     "metadata": {},
     "output_type": "execute_result"
    }
   ],
   "source": [
    "G.hubs"
   ]
  },
  {
   "cell_type": "code",
   "execution_count": 9,
   "metadata": {},
   "outputs": [
    {
     "data": {
      "text/plain": [
       "[[u'adi 4277 stf', u'adpf 132 stf']]"
      ]
     },
     "execution_count": 9,
     "metadata": {},
     "output_type": "execute_result"
    }
   ],
   "source": [
    "list(nx.simple_cycles(G.graph))"
   ]
  },
  {
   "cell_type": "code",
   "execution_count": 10,
   "metadata": {},
   "outputs": [
    {
     "ename": "TypeError",
     "evalue": "'module' object is not callable",
     "output_type": "error",
     "traceback": [
      "\u001b[0;31m---------------------------------------------------------------------------\u001b[0m",
      "\u001b[0;31mTypeError\u001b[0m                                 Traceback (most recent call last)",
      "\u001b[0;32m<ipython-input-10-ec779945ddb5>\u001b[0m in \u001b[0;36m<module>\u001b[0;34m()\u001b[0m\n\u001b[0;32m----> 1\u001b[0;31m \u001b[0mlist\u001b[0m\u001b[0;34m(\u001b[0m\u001b[0mnx\u001b[0m\u001b[0;34m.\u001b[0m\u001b[0mcycles\u001b[0m\u001b[0;34m(\u001b[0m\u001b[0mG\u001b[0m\u001b[0;34m.\u001b[0m\u001b[0mgraph\u001b[0m\u001b[0;34m)\u001b[0m\u001b[0;34m)\u001b[0m\u001b[0;34m\u001b[0m\u001b[0m\n\u001b[0m",
      "\u001b[0;31mTypeError\u001b[0m: 'module' object is not callable"
     ]
    }
   ],
   "source": [
    "G.graph"
   ]
  },
  {
   "cell_type": "code",
   "execution_count": 3,
   "metadata": {},
   "outputs": [
    {
     "name": "stdout",
     "output_type": "stream",
     "text": [
      "1251.0\n",
      "1655.0\n",
      "0.00105835331735\n",
      "adpf 54 stf\n"
     ]
    },
    {
     "data": {
      "text/plain": [
       "<matplotlib.axes._subplots.AxesSubplot at 0x151e156390>"
      ]
     },
     "execution_count": 3,
     "metadata": {},
     "output_type": "execute_result"
    },
    {
     "data": {
      "text/plain": [
       "<matplotlib.figure.Figure at 0x1111ea550>"
      ]
     },
     "metadata": {},
     "output_type": "display_data"
    },
    {
     "data": {
      "image/png": "[encoded data removed]",
      "text/plain": [
       "<matplotlib.figure.Figure at 0x15184e1290>"
      ]
     },
     "metadata": {},
     "output_type": "display_data"
    },
    {
     "data": {
      "text/plain": [
       "<matplotlib.figure.Figure at 0x1111f6110>"
      ]
     },
     "metadata": {},
     "output_type": "display_data"
    },
    {
     "data": {
      "image/png": "[encoded data removed]",
      "text/plain": [
       "<matplotlib.figure.Figure at 0x151e14ae10>"
      ]
     },
     "metadata": {},
     "output_type": "display_data"
    }
   ],
   "source": [
    "G = Graph('normalizado_citation_map_aborto_lista_de_adj.json') #Construtor passa o JSON\n",
    "G.generateGraph()\n",
    "# print(G.density())\n",
    "# n is the number of nodes and m is the number of edges in G.\n",
    "n = float(G.getNumberOfVertex())\n",
    "print(n)\n",
    "m = float(G.getNumberOfEdges())\n",
    "print(m)\n",
    "density =  m / (n * (n - 1))\n",
    "print(density)\n",
    "\n",
    "print(G.get_vertex_max_in_degree())\n",
    "\n",
    "df4 = pd.DataFrame(G.list_in_degree(), columns=['Grau In'])\n",
    "plt.figure();\n",
    "df4.plot.hist(alpha=0.5)\n",
    "\n",
    "df4 = pd.DataFrame(G.list_out_degree(), columns=['Grau out'])\n",
    "plt.figure();\n",
    "df4.plot.hist(alpha=0.5)\n",
    "\n"
   ]
  },
  {
   "cell_type": "code",
   "execution_count": 85,
   "metadata": {},
   "outputs": [
    {
     "name": "stdout",
     "output_type": "stream",
     "text": [
      "[0, 0, 63, 0, 0, 0, 0, 0, 0, 0, 0, 0, 0, 0, 0, 0, 0, 0, 0, 0, 0, 0, 0, 0, 0, 0, 0, 0, 0, 0, 0, 0, 0, 0, 0, 0, 0, 0, 0, 0, 0, 0, 0, 0, 0, 0, 0, 0, 0, 0, 0, 0, 5, 0, 0, 0, 0, 0, 11, 0, 0, 0, 12, 0, 0, 0, 0, 0, 0, 0, 6, 3, 0, 0, 0, 0, 0, 0, 0, 0, 0, 0, 0, 0, 0, 0, 6, 0, 0, 0, 19, 0, 0, 0, 14, 0, 0, 0, 0, 0, 0, 5, 0, 0, 0, 0, 0, 0, 0, 0, 0, 0, 0, 0, 0, 0, 0, 0, 0, 0, 0, 0, 0, 0, 0, 0, 0, 0, 0, 0, 0, 0, 0, 0, 0, 0, 5, 0, 0, 0, 0, 5, 0, 0, 0, 0, 0, 0, 0, 0, 0, 0, 0, 0, 0, 0, 0, 0, 0, 0, 0, 0, 0, 0, 7, 0, 0, 0, 0, 0, 0]\n"
     ]
    },
    {
     "data": {
      "text/plain": [
       "<matplotlib.axes._subplots.AxesSubplot at 0x1521437090>"
      ]
     },
     "execution_count": 85,
     "metadata": {},
     "output_type": "execute_result"
    },
    {
     "data": {
      "image/png": "[encoded data removed]",
      "text/plain": [
       "<matplotlib.figure.Figure at 0x1521cace50>"
      ]
     },
     "metadata": {},
     "output_type": "display_data"
    }
   ],
   "source": [
    "print(G.list_out_degree())\n",
    "\n",
    "df = pd.DataFrame(G.list_out_degree(), columns=['A'])\n",
    "\n",
    "df.plot.box()"
   ]
  },
  {
   "cell_type": "code",
   "execution_count": 79,
   "metadata": {},
   "outputs": [
    {
     "name": "stdout",
     "output_type": "stream",
     "text": [
      "[1, 1, 0, 1, 1, 1, 1, 1, 1, 1, 1, 1, 1, 1, 1, 1, 1, 1, 1, 1, 1, 1, 1, 1, 1, 1, 1, 1, 1, 1, 1, 1, 1, 1, 1, 1, 1, 1, 1, 1, 1, 1, 1, 1, 1, 1, 1, 1, 1, 1, 1, 1, 0, 1, 1, 1, 1, 1, 0, 2, 1, 1, 0, 1, 1, 1, 1, 1, 1, 1, 0, 0, 1, 1, 1, 1, 1, 1, 1, 1, 1, 1, 1, 1, 1, 1, 0, 1, 1, 1, 0, 1, 1, 2, 0, 1, 1, 1, 1, 1, 1, 0, 1, 1, 1, 1, 1, 1, 1, 1, 1, 1, 1, 1, 1, 1, 1, 1, 1, 1, 1, 1, 1, 1, 1, 1, 1, 1, 1, 1, 1, 1, 1, 1, 1, 1, 0, 1, 1, 1, 1, 0, 1, 1, 1, 1, 1, 1, 1, 2, 1, 1, 1, 1, 1, 1, 1, 1, 1, 1, 1, 1, 1, 1, 0, 1, 1, 1, 1, 1, 1]\n",
      "0.941520467836\n"
     ]
    }
   ],
   "source": [
    "x = G.list_in_degree()\n",
    "print x\n",
    "print sum(x)/float(len(x))"
   ]
  },
  {
   "cell_type": "markdown",
   "metadata": {},
   "source": [
    "### Distribuição de decisões por ano"
   ]
  },
  {
   "cell_type": "code",
   "execution_count": 60,
   "metadata": {},
   "outputs": [
    {
     "data": {
      "text/plain": [
       "Text(0.5,1,u'N\\xfamero de decis\\xf5es por ano')"
      ]
     },
     "execution_count": 60,
     "metadata": {},
     "output_type": "execute_result"
    },
    {
     "data": {
      "image/png": "[encoded data removed]",
      "text/plain": [
       "<matplotlib.figure.Figure at 0x151e12a8d0>"
      ]
     },
     "metadata": {},
     "output_type": "display_data"
    }
   ],
   "source": [
    "distribuicao = {\n",
    "    2005: 9,\n",
    "    2006: 20,\n",
    "    2007: 14,\n",
    "    2008: 19,\n",
    "    2009: 20,\n",
    "    2010: 23,\n",
    "    2011: 21,\n",
    "    2012: 24,\n",
    "    2013: 33,\n",
    "    2014: 31,\n",
    "    2015: 43\n",
    "}\n",
    "\n",
    "df = pd.DataFrame(distribuicao.values(), index=distribuicao.keys() ,columns=['Total'])\n",
    "p = df.plot.bar()\n",
    "p.set_xlabel(u'Ano')\n",
    "p.set_ylabel(u'Número de decisões')\n",
    "p.set_title(u\"Número de decisões por ano\")"
   ]
  },
  {
   "cell_type": "markdown",
   "metadata": {},
   "source": [
    "### Importando o Arquivo para manipulação do grafo"
   ]
  },
  {
   "cell_type": "code",
   "execution_count": 134,
   "metadata": {},
   "outputs": [],
   "source": [
    "G = Graph('normalizado_citation_map_aborto_lista_de_adj.json') #Construtor passa o JSON\n",
    "G.generateGraph() #Gera o grafo a partir do JSON\n",
    "G.saveGraph() # SALVA O ARQUIVO, plotar na Gephi"
   ]
  },
  {
   "cell_type": "code",
   "execution_count": 135,
   "metadata": {},
   "outputs": [
    {
     "data": {
      "image/png": "[encoded data removed]",
      "text/plain": [
       "<matplotlib.figure.Figure at 0x1523bb9150>"
      ]
     },
     "metadata": {},
     "output_type": "display_data"
    }
   ],
   "source": [
    "G.degree_distribuition()"
   ]
  },
  {
   "cell_type": "code",
   "execution_count": 136,
   "metadata": {},
   "outputs": [
    {
     "data": {
      "text/plain": [
       "1250"
      ]
     },
     "execution_count": 136,
     "metadata": {},
     "output_type": "execute_result"
    }
   ],
   "source": [
    "G.number_strongly_connected_component()"
   ]
  },
  {
   "cell_type": "code",
   "execution_count": 137,
   "metadata": {},
   "outputs": [
    {
     "name": "stdout",
     "output_type": "stream",
     "text": [
      "Número total de vértices: 1251 \n"
     ]
    }
   ],
   "source": [
    "print(\"Número total de vértices: %s \" % len(G.nodes()))"
   ]
  },
  {
   "cell_type": "markdown",
   "metadata": {},
   "source": [
    "#### 1. Quantos processos na rede não foram citados?"
   ]
  },
  {
   "cell_type": "code",
   "execution_count": 138,
   "metadata": {},
   "outputs": [
    {
     "name": "stdout",
     "output_type": "stream",
     "text": [
      "89 processos não são citados \n"
     ]
    }
   ],
   "source": [
    "print(\"%s processos não são citados \"%len(G.in_degree(0)))"
   ]
  },
  {
   "cell_type": "markdown",
   "metadata": {},
   "source": [
    "#### 2. Quantos processos na rede não citam ninguém ?"
   ]
  },
  {
   "cell_type": "code",
   "execution_count": 139,
   "metadata": {
    "scrolled": true
   },
   "outputs": [
    {
     "name": "stdout",
     "output_type": "stream",
     "text": [
      "1138 processos não citam ninguém \n"
     ]
    }
   ],
   "source": [
    "print(\"%s processos não citam ninguém \"%len(G.out_degree(0)))"
   ]
  },
  {
   "cell_type": "markdown",
   "metadata": {},
   "source": [
    "### Centralidades"
   ]
  },
  {
   "cell_type": "code",
   "execution_count": 140,
   "metadata": {},
   "outputs": [],
   "source": [
    "centralities_degree = G.centrality()\n",
    "#for i in centralities_degree:\n",
    "#    print(centralities_degree[i])"
   ]
  },
  {
   "cell_type": "code",
   "execution_count": 141,
   "metadata": {},
   "outputs": [],
   "source": [
    "centralities_betweenness = G.betweenness_centrality()\n",
    "#for i in centralities_degree:\n",
    "centralities_eingenvector = G.eigenvector_centrality()\n",
    "#    print(i, ' : ',centralities_betweenness[i])"
   ]
  },
  {
   "cell_type": "code",
   "execution_count": 142,
   "metadata": {},
   "outputs": [
    {
     "data": {
      "text/plain": [
       "Text(0.5,1,u'Top 10 com maior Betweeness')"
      ]
     },
     "execution_count": 142,
     "metadata": {},
     "output_type": "execute_result"
    },
    {
     "data": {
      "image/png": "[encoded data removed]",
      "text/plain": [
       "<matplotlib.figure.Figure at 0x1523c23790>"
      ]
     },
     "metadata": {},
     "output_type": "display_data"
    }
   ],
   "source": [
    "centralities_eingenvector = G.eigenvector_centrality()\n",
    "\n",
    "centralities_betweenness = [(k, v) for k, v in centralities_betweenness.items()]\n",
    "centralities_betweenness.sort(key=lambda x: x[1], reverse=True)\n",
    "\n",
    "btw_v = [i[1] for i in centralities_betweenness[:10]]\n",
    "btw_i = [i[0] for i in centralities_betweenness[:10]]\n",
    "df = pd.DataFrame(btw_v, index=btw_i ,columns=['Total'])\n",
    "p = df.plot.bar()\n",
    "p.set_xlabel(u'Precedente')\n",
    "p.set_ylabel(u'Score')\n",
    "p.set_title(u\"Top 10 com maior Betweeness\")"
   ]
  },
  {
   "cell_type": "code",
   "execution_count": 122,
   "metadata": {},
   "outputs": [],
   "source": [
    "for ano in range(2005, 2016, 2):\n",
    "    G = Graph('normalizado_citation_map_aborto_%s-%s.json' % (ano, ano + 1), \"%s-%s\" % (ano, ano + 1))\n",
    "    G.generateGraph()\n",
    "    G.saveGraph()"
   ]
  },
  {
   "cell_type": "markdown",
   "metadata": {},
   "source": [
    "## Distribuição de vértices por grau (in/out) em cada ano."
   ]
  },
  {
   "cell_type": "code",
   "execution_count": 31,
   "metadata": {},
   "outputs": [],
   "source": [
    "G1 = Graph('normalizado_citation_map_aborto_2005-2006.json')\n",
    "G2 = Graph('normalizado_citation_map_aborto_2007-2008.json')\n",
    "G3 = Graph('normalizado_citation_map_aborto_2009-2010.json')\n",
    "G4 = Graph('normalizado_citation_map_aborto_2011-2012.json')\n",
    "G5 = Graph('normalizado_citation_map_aborto_2013-2014.json')\n",
    "G6 = Graph('normalizado_citation_map_aborto_2015-2016.json')\n",
    "graphs_as_list = [G1, G2, G3, G4, G5, G6]\n",
    "graphs_per_year = {'2005-2006':G1,'2007-2008':G2,'2008-2009':G3,'2010-2011':G4,'2012-2013':G5,'2014-2015':G6}"
   ]
  },
  {
   "cell_type": "code",
   "execution_count": 106,
   "metadata": {},
   "outputs": [
    {
     "name": "stdout",
     "output_type": "stream",
     "text": [
      "[67, 30, 312, 75, 36, 158]\n"
     ]
    },
    {
     "data": {
      "text/plain": [
       "Text(0.5,1,u'M\\xe9dia de Grau-In por janela')"
      ]
     },
     "execution_count": 106,
     "metadata": {},
     "output_type": "execute_result"
    },
    {
     "data": {
      "image/png": "[encoded data removed]",
      "text/plain": [
       "<matplotlib.figure.Figure at 0x15185b8fd0>"
      ]
     },
     "metadata": {},
     "output_type": "display_data"
    },
    {
     "data": {
      "image/png": "[encoded data removed]",
      "text/plain": [
       "<matplotlib.figure.Figure at 0x1522c992d0>"
      ]
     },
     "metadata": {},
     "output_type": "display_data"
    }
   ],
   "source": [
    "# degree in\n",
    "in_degree = []\n",
    "avg_in_degree = []\n",
    "avg_in_degree_avg = []\n",
    "for G in graphs_per_year.values():\n",
    "    G.generateGraph()\n",
    "    _in = G.list_in_degree()\n",
    "    in_degree.append(len(_in))\n",
    "    avg_in_degree.append(len([x for x in _in if x > np.average(_in)]))\n",
    "    avg_in_degree_avg.append(np.average(_in))\n",
    "\n",
    "print avg_in_degree\n",
    "\n",
    "df = pd.DataFrame({u\"Maior que a Média\": avg_in_degree, u\"Total\": in_degree}, index=graphs_per_year.keys() ,columns=[u\"Total\", u\"Maior que a Média\"])\n",
    "p = df.plot.bar()\n",
    "p.set_xlabel(u'Janela')\n",
    "p.set_title(u\"Qtd de Nós com Grau-In Maior que a Média por janela\")\n",
    "\n",
    "df = pd.DataFrame({\"Avg\": avg_in_degree_avg}, index=graphs_per_year.keys() ,columns=[\"Avg\"])\n",
    "p = df.plot.bar()\n",
    "p.set_xlabel(u'Janela')\n",
    "p.set_title(u\"Média de Grau-In por janela\")"
   ]
  },
  {
   "cell_type": "code",
   "execution_count": 104,
   "metadata": {},
   "outputs": [
    {
     "name": "stdout",
     "output_type": "stream",
     "text": [
      "[11, 20, 12, 17, 23, 13]\n"
     ]
    },
    {
     "data": {
      "text/plain": [
       "Text(0.5,1,u'M\\xe9dia de Grau-Out por janela')"
      ]
     },
     "execution_count": 104,
     "metadata": {},
     "output_type": "execute_result"
    },
    {
     "data": {
      "image/png": "[encoded data removed]",
      "text/plain": [
       "<matplotlib.figure.Figure at 0x152168d790>"
      ]
     },
     "metadata": {},
     "output_type": "display_data"
    },
    {
     "data": {
      "image/png": "[encoded data removed]",
      "text/plain": [
       "<matplotlib.figure.Figure at 0x15185f41d0>"
      ]
     },
     "metadata": {},
     "output_type": "display_data"
    }
   ],
   "source": [
    "# degree out\n",
    "out_degree = []\n",
    "avg_out_degree = []\n",
    "avg_out_degree_avg = []\n",
    "for G in graphs_per_year.values():\n",
    "    G.generateGraph()\n",
    "    out = G.list_out_degree()\n",
    "    out_degree.append(len(out))\n",
    "    avg_out_degree.append(len([x for x in out if x > np.average(out)]))\n",
    "    avg_out_degree_avg.append(np.average(out))\n",
    "\n",
    "print avg_out_degree\n",
    "\n",
    "df = pd.DataFrame({u\"Maior que a Média\": avg_out_degree, u\"Total\": out_degree}, index=graphs_per_year.keys() ,columns=[u\"Total\", u\"Maior que a Média\"])\n",
    "p = df.plot.bar()\n",
    "p.set_xlabel(u'Janela')\n",
    "p.set_title(u\"Qtd de Nós com Grau-Out Maior que a Média por janela\")\n",
    "\n",
    "df = pd.DataFrame({\"Avg\": avg_out_degree_avg}, index=graphs_per_year.keys() ,columns=[\"Avg\"])\n",
    "p = df.plot.bar()\n",
    "p.set_xlabel(u'Janela')\n",
    "p.set_title(u\"Média de Grau-Out por janela\")"
   ]
  },
  {
   "cell_type": "code",
   "execution_count": null,
   "metadata": {},
   "outputs": [],
   "source": [
    "for graph in graphs_per_year.values():\n",
    "    graph.generateGraph()\n",
    "    graph.saveGraph()"
   ]
  },
  {
   "cell_type": "code",
   "execution_count": 17,
   "metadata": {},
   "outputs": [
    {
     "data": {
      "image/png": "[encoded data removed]",
      "text/plain": [
       "<matplotlib.figure.Figure at 0x1520ffae90>"
      ]
     },
     "metadata": {},
     "output_type": "display_data"
    },
    {
     "data": {
      "image/png": "[encoded data removed]",
      "text/plain": [
       "<matplotlib.figure.Figure at 0x1520e93550>"
      ]
     },
     "metadata": {},
     "output_type": "display_data"
    },
    {
     "data": {
      "image/png": "[encoded data removed]",
      "text/plain": [
       "<matplotlib.figure.Figure at 0x1521430c10>"
      ]
     },
     "metadata": {},
     "output_type": "display_data"
    },
    {
     "data": {
      "image/png": "[encoded data removed]",
      "text/plain": [
       "<matplotlib.figure.Figure at 0x1521652650>"
      ]
     },
     "metadata": {},
     "output_type": "display_data"
    },
    {
     "data": {
      "image/png": "[encoded data removed]",
      "text/plain": [
       "<matplotlib.figure.Figure at 0x1521851e90>"
      ]
     },
     "metadata": {},
     "output_type": "display_data"
    },
    {
     "data": {
      "image/png": "[encoded data removed]",
      "text/plain": [
       "<matplotlib.figure.Figure at 0x1521a14b10>"
      ]
     },
     "metadata": {},
     "output_type": "display_data"
    }
   ],
   "source": [
    "keys= list(graphs_per_year.keys())\n",
    "for i,graph in enumerate(graphs_per_year.values()):\n",
    "    graph.degree_distribuition(keys[i])"
   ]
  },
  {
   "cell_type": "markdown",
   "metadata": {},
   "source": [
    "## Número de componentes por ano"
   ]
  },
  {
   "cell_type": "code",
   "execution_count": 18,
   "metadata": {},
   "outputs": [
    {
     "name": "stdout",
     "output_type": "stream",
     "text": [
      "['2005-2006', '2007-2008', '2014-2015', '2010-2011', '2008-2009', '2012-2013']\n"
     ]
    }
   ],
   "source": [
    "print(keys)"
   ]
  },
  {
   "cell_type": "code",
   "execution_count": 19,
   "metadata": {},
   "outputs": [
    {
     "data": {
      "text/plain": [
       "Text(0,0.5,u'N\\xfamero de componentes')"
      ]
     },
     "execution_count": 19,
     "metadata": {},
     "output_type": "execute_result"
    },
    {
     "data": {
      "image/png": "[encoded data removed]",
      "text/plain": [
       "<matplotlib.figure.Figure at 0x1521a83e50>"
      ]
     },
     "metadata": {},
     "output_type": "display_data"
    }
   ],
   "source": [
    "number_components = []\n",
    "for graph in graphs_per_year.values():\n",
    "    number_components.append(graph.number_strongly_connected_component())\n",
    "\n",
    "#number_components_df = pd.DataFrame(np.array(number_components).reshape(1,6), columns=keys)\n",
    "number_components_df = pd.DataFrame(np.array(number_components), index=keys)\n",
    "\n",
    "p = number_components_df.plot.bar(legend=False)\n",
    "p.set_xlabel('Grau')\n",
    "p.set_ylabel(u'Número de componentes')"
   ]
  },
  {
   "cell_type": "markdown",
   "metadata": {},
   "source": [
    "## Hubs and authorities"
   ]
  },
  {
   "cell_type": "code",
   "execution_count": 20,
   "metadata": {},
   "outputs": [],
   "source": [
    "h,a = G.hubs_and_authorities() # Retorna dois dicionários com o vértice e sua taxa de hub e autoridade"
   ]
  },
  {
   "cell_type": "code",
   "execution_count": 21,
   "metadata": {},
   "outputs": [
    {
     "name": "stdout",
     "output_type": "stream",
     "text": [
      "[(u're 641320 stf', 0.8285101624490747), (u'rcl 14872 stf', 0.07024283597129884), (u'adpf 388 stf', 0.050858997926714666), (u'rcl 8853 stf', 0.04920177226779958), (u'hc 126560 stf', 0.001163954610863259)]\n",
      "12\n",
      "[(u're 641320 stf', 0.8285101624490747), (u'rcl 14872 stf', 0.07024283597129884), (u'adpf 388 stf', 0.050858997926714666), (u'rcl 8853 stf', 0.04920177226779958), (u'hc 126560 stf', 0.001163954610863259), (u'hc 129673 stf', 2.2259459344107386e-05), (u'inq 3983 stf', 1.4073885095459705e-08), (u'adpf 378 stf', 3.2410200033512743e-09), (u'hc 122791 stf', 1.9106736891464447e-21), (u'are 923172 stf', 1.9106736891464447e-21), (u'are 891473 stf', 6.8809584868585396e-37), (u'hc 123068 stf', 1.756389470126388e-52)]\n"
     ]
    }
   ],
   "source": [
    "hubs = list(h.items())\n",
    "hubs.sort(key=lambda x: x[1], reverse=True)\n",
    "hubs = [i for i in hubs if i[1] > 0]\n",
    "print(hubs[:5])\n",
    "print(len(hubs))\n",
    "print(hubs)"
   ]
  },
  {
   "cell_type": "code",
   "execution_count": 22,
   "metadata": {},
   "outputs": [
    {
     "name": "stdout",
     "output_type": "stream",
     "text": [
      "[(u'hc 82959 stf', 0.017774298380028745), (u'sum. vinc. 26 stf', 0.017774298380028745), (u'adpf 54 stf', 0.017390951545804157), (u'adi 1127 stf', 0.017358177215552044), (u'mi 670 stf', 0.016385132360223736)]\n",
      "312\n",
      "[(u'hc 113186 stf', 2.6939989960281535e-53), (u'hc 9597845 stf', 2.6939989960281535e-53), (u'hc 113049 stf', 2.6939989960281535e-53), (u'resp 1433 stj', 2.6939989960281535e-53), (u'hc 97652 stf', 2.6939989960281535e-53)]\n"
     ]
    }
   ],
   "source": [
    "aut = list(a.items())\n",
    "aut.sort(key=lambda x: x[1], reverse=True)\n",
    "aut = [i for i in aut if i[1] > 0]\n",
    "print(aut[:5])\n",
    "print(len(aut))\n",
    "print(aut[-5:])"
   ]
  },
  {
   "cell_type": "code",
   "execution_count": null,
   "metadata": {},
   "outputs": [],
   "source": []
  }
 ],
 "metadata": {
  "kernelspec": {
   "display_name": "Python 2",
   "language": "python",
   "name": "python2"
  },
  "language_info": {
   "codemirror_mode": {
    "name": "ipython",
    "version": 2
   },
   "file_extension": ".py",
   "mimetype": "text/x-python",
   "name": "python",
   "nbconvert_exporter": "python",
   "pygments_lexer": "ipython2",
   "version": "2.7.14"
  }
 },
 "nbformat": 4,
 "nbformat_minor": 2
}
