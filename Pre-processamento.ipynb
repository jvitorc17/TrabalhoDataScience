{
 "cells": [
  {
   "cell_type": "code",
   "execution_count": 1,
   "metadata": {},
   "outputs": [],
   "source": [
    "import networkx as nx\n",
    "import json\n",
    "import matplotlib.pyplot as plt\n",
    "import random\n",
    "import re\n",
    "%matplotlib inline"
   ]
  },
  {
   "cell_type": "code",
   "execution_count": 19,
   "metadata": {},
   "outputs": [],
   "source": [
    "_map = json.load(open('citation_map_aborto_lista_de_adj.json'))"
   ]
  },
  {
   "cell_type": "code",
   "execution_count": 20,
   "metadata": {},
   "outputs": [],
   "source": [
    "def normalizer(map_json):\n",
    "    new_map = {}\n",
    "    for k, v in map_json.items():\n",
    "        sig = re.findall(r'_([a-z]+)_', k)[0]\n",
    "        num = re.findall(r'_([0-9]+)_', k)[0]\n",
    "        key = \"%s %s stf\" % (sig, num)\n",
    "        value = k\n",
    "        if not new_map.get(key):\n",
    "            new_map[key] = k\n",
    "        elif int(new_map[key][:5]) < int(k[:5]):\n",
    "            new_map[key] = k\n",
    "\n",
    "    for k, v in new_map.items():\n",
    "        new_map[k] = map_json[v]\n",
    "    return new_map"
   ]
  },
  {
   "cell_type": "code",
   "execution_count": 21,
   "metadata": {},
   "outputs": [],
   "source": [
    "with open(\"normalizado_citation_map_aborto_lista_de_adj.json\", \"w\") as f:\n",
    "    json.dump(normalizer(_map), f, indent=4)"
   ]
  },
  {
   "cell_type": "markdown",
   "metadata": {},
   "source": [
    "### Janela de dois anos (2006 - 2016)"
   ]
  },
  {
   "cell_type": "code",
   "execution_count": 22,
   "metadata": {},
   "outputs": [],
   "source": [
    "for ano in range(2005, 2016, 2):\n",
    "    map_ano = {}\n",
    "    for k in _map.keys():\n",
    "        if ano == int(k[:4]) or (ano + 1) == int(k[:4]):\n",
    "            map_ano[k] = _map[k]\n",
    "    with open(\"normalizado_citation_map_aborto_%s-%s.json\" % (ano, ano +1), \"w\") as f:\n",
    "        json.dump(normalizer(map_ano), f, indent=4)"
   ]
  },
  {
   "cell_type": "code",
   "execution_count": 15,
   "metadata": {},
   "outputs": [
    {
     "data": {
      "text/plain": [
       "[2005, 2007, 2009, 2011, 2013, 2015]"
      ]
     },
     "execution_count": 15,
     "metadata": {},
     "output_type": "execute_result"
    }
   ],
   "source": [
    "list(range(2005, 2016, 2))"
   ]
  },
  {
   "cell_type": "code",
   "execution_count": null,
   "metadata": {},
   "outputs": [],
   "source": []
  }
 ],
 "metadata": {
  "kernelspec": {
   "display_name": "Python 2",
   "language": "python",
   "name": "python2"
  },
  "language_info": {
   "codemirror_mode": {
    "name": "ipython",
    "version": 2
   },
   "file_extension": ".py",
   "mimetype": "text/x-python",
   "name": "python",
   "nbconvert_exporter": "python",
   "pygments_lexer": "ipython2",
   "version": "2.7.14"
  }
 },
 "nbformat": 4,
 "nbformat_minor": 2
}
