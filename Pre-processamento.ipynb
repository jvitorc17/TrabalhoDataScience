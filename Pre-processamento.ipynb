{
 "cells": [
  {
   "cell_type": "code",
   "execution_count": 1,
   "metadata": {},
   "outputs": [],
   "source": [
    "import networkx as nx\n",
    "import json\n",
    "import matplotlib.pyplot as plt\n",
    "import random\n",
    "import re\n",
    "import pandas as pd\n",
    "%matplotlib inline"
   ]
  },
  {
   "cell_type": "code",
   "execution_count": 2,
   "metadata": {},
   "outputs": [],
   "source": [
    "_map = json.load(open('citation_map_aborto.json'))"
   ]
  },
  {
   "cell_type": "code",
   "execution_count": 3,
   "metadata": {},
   "outputs": [],
   "source": [
    "def normalizer(map_json):\n",
    "    new_map = {}\n",
    "    for k, v in map_json.items():\n",
    "        key = k[9:]\n",
    "        value = k\n",
    "        if not new_map.get(key):\n",
    "            new_map[key] = k\n",
    "        elif int(new_map[key][:5]) < int(k[:5]):\n",
    "            new_map[key] = k\n",
    "\n",
    "    for k, v in new_map.items():\n",
    "        new_map[k] = map_json[v]\n",
    "    return new_map"
   ]
  },
  {
   "cell_type": "code",
   "execution_count": 4,
   "metadata": {},
   "outputs": [],
   "source": [
    "with open(\"normalizado_citation_map_aborto_lista_de_adj.json\", \"w\") as f:\n",
    "    json.dump(normalizer(_map), f, indent=4)"
   ]
  },
  {
   "cell_type": "markdown",
   "metadata": {},
   "source": [
    "### Janela de dois anos (2006 - 2016)"
   ]
  },
  {
   "cell_type": "code",
   "execution_count": 5,
   "metadata": {},
   "outputs": [],
   "source": [
    "for ano in range(2005, 2016, 2):\n",
    "    map_ano = {}\n",
    "    for k in _map.keys():\n",
    "        if ano == int(k[:4]) or (ano + 1) == int(k[:4]):\n",
    "            map_ano[k] = _map[k]\n",
    "    with open(\"normalizado_citation_map_aborto_%s-%s.json\" % (ano, ano +1), \"w\") as f:\n",
    "        json.dump(normalizer(map_ano), f, indent=4)"
   ]
  },
  {
   "cell_type": "markdown",
   "metadata": {},
   "source": [
    "### Janela de um ano (2006 - 2016)"
   ]
  },
  {
   "cell_type": "code",
   "execution_count": 6,
   "metadata": {},
   "outputs": [],
   "source": [
    "for ano in range(2005, 2017):\n",
    "    map_ano = {}\n",
    "    for k in _map.keys():\n",
    "        if ano == int(k[:4]):\n",
    "            map_ano[k] = _map[k]\n",
    "    with open(\"normalizado_citation_map_aborto_%s.json\" % (ano), \"w\") as f:\n",
    "        json.dump(normalizer(map_ano), f, indent=4)"
   ]
  },
  {
   "cell_type": "markdown",
   "metadata": {},
   "source": [
    "### Decisões por ano"
   ]
  },
  {
   "cell_type": "code",
   "execution_count": 7,
   "metadata": {},
   "outputs": [
    {
     "data": {
      "text/plain": [
       "{2005: 3,\n",
       " 2006: 7,\n",
       " 2007: 2,\n",
       " 2008: 7,\n",
       " 2009: 4,\n",
       " 2010: 3,\n",
       " 2011: 2,\n",
       " 2012: 5,\n",
       " 2013: 4,\n",
       " 2014: 6,\n",
       " 2015: 9}"
      ]
     },
     "execution_count": 7,
     "metadata": {},
     "output_type": "execute_result"
    }
   ],
   "source": [
    "distribuicao_ano = {}\n",
    "\n",
    "for ano in range(2005, 2016):\n",
    "    for k in _map.keys():\n",
    "        if ano == int(k[:4]):\n",
    "            if not distribuicao_ano.get(ano):\n",
    "                distribuicao_ano[ano] = 0\n",
    "            distribuicao_ano[ano] += 1\n",
    "distribuicao_ano"
   ]
  },
  {
   "cell_type": "code",
   "execution_count": 8,
   "metadata": {},
   "outputs": [
    {
     "data": {
      "text/plain": [
       "Text(0.5,1,u'Decions per Year')"
      ]
     },
     "execution_count": 8,
     "metadata": {},
     "output_type": "execute_result"
    },
    {
     "data": {
      "image/png": "[encoded data removed]",
      "text/plain": [
       "<Figure size 432x288 with 1 Axes>"
      ]
     },
     "metadata": {},
     "output_type": "display_data"
    }
   ],
   "source": [
    "df = pd.DataFrame(distribuicao_ano.values(), index=distribuicao_ano.keys() ,columns=['Decisions Published'])\n",
    "p = df.plot.bar()\n",
    "p.grid(linestyle='-.', color='grey')\n",
    "p.set_xlabel(u'Year')\n",
    "p.set_title(u\"Decions per Year\")"
   ]
  },
  {
   "cell_type": "markdown",
   "metadata": {},
   "source": [
    "### Número de Precedentes citados por ano"
   ]
  },
  {
   "cell_type": "code",
   "execution_count": 9,
   "metadata": {},
   "outputs": [
    {
     "data": {
      "text/plain": [
       "{2005: 22,\n",
       " 2006: 18,\n",
       " 2007: 27,\n",
       " 2008: 38,\n",
       " 2009: 12,\n",
       " 2010: 8,\n",
       " 2011: 11,\n",
       " 2012: 42,\n",
       " 2013: 21,\n",
       " 2014: 34,\n",
       " 2015: 72}"
      ]
     },
     "execution_count": 9,
     "metadata": {},
     "output_type": "execute_result"
    }
   ],
   "source": [
    "distribuicao = {}\n",
    "\n",
    "for ano in range(2005, 2016):\n",
    "    for k in _map.keys():\n",
    "        if ano == int(k[:4]):\n",
    "            if not distribuicao.get(ano):\n",
    "                distribuicao[ano] = 0\n",
    "            distribuicao[ano] += len(_map[k])\n",
    "distribuicao"
   ]
  },
  {
   "cell_type": "code",
   "execution_count": 10,
   "metadata": {},
   "outputs": [
    {
     "data": {
      "text/plain": [
       "Text(0.5,1,u'Decisions vs. Precedents')"
      ]
     },
     "execution_count": 10,
     "metadata": {},
     "output_type": "execute_result"
    },
    {
     "data": {
      "image/png": "[encoded data removed]",
      "text/plain": [
       "<Figure size 432x288 with 1 Axes>"
      ]
     },
     "metadata": {},
     "output_type": "display_data"
    }
   ],
   "source": [
    "df = pd.DataFrame({'Decisions': distribuicao_ano.values(), 'Precedents': distribuicao.values()} , index=distribuicao_ano.keys(),\n",
    "                  columns=['Decisions', 'Precedents'])\n",
    "p = df.plot.bar()\n",
    "p.grid(linestyle='-.', color='grey')\n",
    "p.set_xlabel(u'Year')\n",
    "p.set_title(u\"Decisions vs. Precedents\")"
   ]
  },
  {
   "cell_type": "code",
   "execution_count": null,
   "metadata": {},
   "outputs": [],
   "source": []
  },
  {
   "cell_type": "code",
   "execution_count": null,
   "metadata": {},
   "outputs": [],
   "source": []
  }
 ],
 "metadata": {
  "kernelspec": {
   "display_name": "Python 2",
   "language": "python",
   "name": "python2"
  },
  "language_info": {
   "codemirror_mode": {
    "name": "ipython",
    "version": 2
   },
   "file_extension": ".py",
   "mimetype": "text/x-python",
   "name": "python",
   "nbconvert_exporter": "python",
   "pygments_lexer": "ipython2",
   "version": "2.7.15"
  }
 },
 "nbformat": 4,
 "nbformat_minor": 2
}
