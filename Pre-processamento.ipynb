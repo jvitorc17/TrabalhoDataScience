{
 "cells": [
  {
   "cell_type": "code",
   "execution_count": 1,
   "metadata": {},
   "outputs": [],
   "source": [
    "import networkx as nx\n",
    "import json\n",
    "import matplotlib.pyplot as plt\n",
    "import random\n",
    "import re\n",
    "import pandas as pd\n",
    "%matplotlib inline"
   ]
  },
  {
   "cell_type": "code",
   "execution_count": 2,
   "metadata": {},
   "outputs": [],
   "source": [
    "_map = json.load(open('citation_map_aborto_lista_de_adj.json'))"
   ]
  },
  {
   "cell_type": "code",
   "execution_count": 3,
   "metadata": {},
   "outputs": [],
   "source": [
    "def normalizer(map_json):\n",
    "    new_map = {}\n",
    "    for k, v in map_json.items():\n",
    "        sig = re.findall(r'_([a-z]+)_', k)[0]\n",
    "        num = re.findall(r'_([0-9]+)_', k)[0]\n",
    "        key = \"%s %s stf\" % (sig, num)\n",
    "        value = k\n",
    "        if not new_map.get(key):\n",
    "            new_map[key] = k\n",
    "        elif int(new_map[key][:5]) < int(k[:5]):\n",
    "            new_map[key] = k\n",
    "\n",
    "    for k, v in new_map.items():\n",
    "        new_map[k] = map_json[v]\n",
    "    return new_map"
   ]
  },
  {
   "cell_type": "code",
   "execution_count": 4,
   "metadata": {},
   "outputs": [],
   "source": [
    "with open(\"normalizado_citation_map_aborto_lista_de_adj.json\", \"w\") as f:\n",
    "    json.dump(normalizer(_map), f, indent=4)"
   ]
  },
  {
   "cell_type": "markdown",
   "metadata": {},
   "source": [
    "### Janela de dois anos (2006 - 2016)"
   ]
  },
  {
   "cell_type": "code",
   "execution_count": 5,
   "metadata": {},
   "outputs": [],
   "source": [
    "for ano in range(2005, 2016, 2):\n",
    "    map_ano = {}\n",
    "    for k in _map.keys():\n",
    "        if ano == int(k[:4]) or (ano + 1) == int(k[:4]):\n",
    "            map_ano[k] = _map[k]\n",
    "    with open(\"normalizado_citation_map_aborto_%s-%s.json\" % (ano, ano +1), \"w\") as f:\n",
    "        json.dump(normalizer(map_ano), f, indent=4)"
   ]
  },
  {
   "cell_type": "markdown",
   "metadata": {},
   "source": [
    "### Janela de um ano (2006 - 2016)"
   ]
  },
  {
   "cell_type": "code",
   "execution_count": 7,
   "metadata": {},
   "outputs": [],
   "source": [
    "for ano in range(2005, 2017):\n",
    "    map_ano = {}\n",
    "    for k in _map.keys():\n",
    "        if ano == int(k[:4]):\n",
    "            map_ano[k] = _map[k]\n",
    "    with open(\"normalizado_citation_map_aborto_%s.json\" % (ano), \"w\") as f:\n",
    "        json.dump(normalizer(map_ano), f, indent=4)"
   ]
  },
  {
   "cell_type": "markdown",
   "metadata": {},
   "source": [
    "### Decisões por ano"
   ]
  },
  {
   "cell_type": "code",
   "execution_count": 13,
   "metadata": {},
   "outputs": [
    {
     "data": {
      "text/plain": [
       "{2005: 9,\n",
       " 2006: 20,\n",
       " 2007: 14,\n",
       " 2008: 19,\n",
       " 2009: 20,\n",
       " 2010: 23,\n",
       " 2011: 21,\n",
       " 2012: 24,\n",
       " 2013: 33,\n",
       " 2014: 31,\n",
       " 2015: 43}"
      ]
     },
     "execution_count": 13,
     "metadata": {},
     "output_type": "execute_result"
    }
   ],
   "source": [
    "distribuicao_ano = {}\n",
    "\n",
    "for ano in range(2005, 2016):\n",
    "    for k in _map.keys():\n",
    "        if ano == int(k[:4]):\n",
    "            if not distribuicao_ano.get(ano):\n",
    "                distribuicao_ano[ano] = 0\n",
    "            distribuicao_ano[ano] += 1\n",
    "distribuicao_ano"
   ]
  },
  {
   "cell_type": "code",
   "execution_count": 21,
   "metadata": {},
   "outputs": [
    {
     "data": {
      "text/plain": [
       "Text(0.5,1,u'N\\xfamero de decis\\xf5es por ano')"
      ]
     },
     "execution_count": 21,
     "metadata": {},
     "output_type": "execute_result"
    },
    {
     "data": {
      "image/png": "[encoded data removed]",
      "text/plain": [
       "<matplotlib.figure.Figure at 0x152094f650>"
      ]
     },
     "metadata": {},
     "output_type": "display_data"
    }
   ],
   "source": [
    "df = pd.DataFrame(distribuicao_ano.values(), index=distribuicao_ano.keys() ,columns=['Total de decisões'])\n",
    "p = df.plot.bar()\n",
    "p.set_xlabel(u'Ano')\n",
    "p.set_title(u\"Número de decisões por ano\")"
   ]
  },
  {
   "cell_type": "markdown",
   "metadata": {},
   "source": [
    "### Número de Precedentes citados por ano"
   ]
  },
  {
   "cell_type": "code",
   "execution_count": 15,
   "metadata": {},
   "outputs": [
    {
     "data": {
      "text/plain": [
       "{2005: 158,\n",
       " 2006: 112,\n",
       " 2007: 158,\n",
       " 2008: 142,\n",
       " 2009: 88,\n",
       " 2010: 247,\n",
       " 2011: 250,\n",
       " 2012: 156,\n",
       " 2013: 182,\n",
       " 2014: 192,\n",
       " 2015: 258}"
      ]
     },
     "execution_count": 15,
     "metadata": {},
     "output_type": "execute_result"
    }
   ],
   "source": [
    "distribuicao = {}\n",
    "\n",
    "for ano in range(2005, 2016):\n",
    "    for k in _map.keys():\n",
    "        if ano == int(k[:4]):\n",
    "            if not distribuicao.get(ano):\n",
    "                distribuicao[ano] = 0\n",
    "            distribuicao[ano] += len(_map[k])\n",
    "distribuicao"
   ]
  },
  {
   "cell_type": "code",
   "execution_count": 22,
   "metadata": {},
   "outputs": [
    {
     "data": {
      "text/plain": [
       "Text(0.5,1,u'Distribui\\xe7\\xe3o decis\\xf5es vs precedentes')"
      ]
     },
     "execution_count": 22,
     "metadata": {},
     "output_type": "execute_result"
    },
    {
     "data": {
      "image/png": "[encoded data removed]",
      "text/plain": [
       "<matplotlib.figure.Figure at 0x1520b87590>"
      ]
     },
     "metadata": {},
     "output_type": "display_data"
    }
   ],
   "source": [
    "df = pd.DataFrame({'Total Decisões': distribuicao_ano.values(), 'Total de Precedentes': distribuicao.values()} , index=distribuicao_ano.keys(),\n",
    "                  columns=['Total Decisões', 'Total de Precedentes'])\n",
    "p = df.plot.bar()\n",
    "p.set_xlabel(u'Ano')\n",
    "p.set_title(u\"Distribuição decisões vs precedentes\")"
   ]
  },
  {
   "cell_type": "code",
   "execution_count": null,
   "metadata": {},
   "outputs": [],
   "source": []
  }
 ],
 "metadata": {
  "kernelspec": {
   "display_name": "Python 2",
   "language": "python",
   "name": "python2"
  },
  "language_info": {
   "codemirror_mode": {
    "name": "ipython",
    "version": 2
   },
   "file_extension": ".py",
   "mimetype": "text/x-python",
   "name": "python",
   "nbconvert_exporter": "python",
   "pygments_lexer": "ipython2",
   "version": "2.7.14"
  }
 },
 "nbformat": 4,
 "nbformat_minor": 2
}
